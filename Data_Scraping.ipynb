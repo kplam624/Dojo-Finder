{
 "cells": [
  {
   "cell_type": "markdown",
   "metadata": {},
   "source": [
    "This notebook contains the code in data scraping."
   ]
  },
  {
   "cell_type": "code",
   "execution_count": 1,
   "metadata": {},
   "outputs": [],
   "source": [
    "# Import the dependencies\n",
    "import pandas as pd\n",
    "from bs4 import BeautifulSoup as bs\n",
    "import requests\n",
    "import time\n",
    "from splinter import Browser\n",
    "from webdriver_manager.chrome import ChromeDriverManager"
   ]
  },
  {
   "cell_type": "code",
   "execution_count": 11,
   "metadata": {},
   "outputs": [
    {
     "name": "stdout",
     "output_type": "stream",
     "text": [
      "<Response [200]>\n"
     ]
    }
   ],
   "source": [
    "# Setting the url\n",
    "url = \"https://dojos.info/NewJersey/Counties.aspx\"\n",
    "\n",
    "# Creating the response\n",
    "response = requests.get(url)\n",
    "\n",
    "print(response)\n",
    "\n",
    "# Using beautiful soup\n",
    "soup = bs(response.text,\"lxml\")"
   ]
  },
  {
   "cell_type": "code",
   "execution_count": 12,
   "metadata": {
    "scrolled": true
   },
   "outputs": [
    {
     "data": {
      "text/plain": [
       "<ul class=\"olist\">\n",
       "<li><h4>A</h4>\n",
       "<ol class=\"c\"><li><a href=\"AtlanticCounty/\" title=\"Martial Arts Schools in Atlantic County, NJ\">Atlantic County</a> (31)</li>\n",
       "</ol>\n",
       "</li>\n",
       "<li><h4>B</h4>\n",
       "<ol class=\"c\"><li><a href=\"BergenCounty/\" title=\"Martial Arts Schools in Bergen County, NJ\">Bergen County</a> (126)</li>\n",
       "<li><a href=\"BurlingtonCounty/\" title=\"Martial Arts Schools in Burlington County, NJ\">Burlington County</a> (44)</li>\n",
       "</ol>\n",
       "</li>\n",
       "<li><h4>C</h4>\n",
       "<ol class=\"c\"><li><a href=\"CamdenCounty/\" title=\"Martial Arts Schools in Camden County, NJ\">Camden County</a> (55)</li>\n",
       "<li><a href=\"CapeMayCounty/\" title=\"Martial Arts Schools in Cape May County, NJ\">Cape May County</a> (8)</li>\n",
       "<li><a href=\"CumberlandCounty/\" title=\"Martial Arts Schools in Cumberland County, NJ\">Cumberland County</a> (15)</li>\n",
       "</ol>\n",
       "</li>\n",
       "<li><h4>E</h4>\n",
       "<ol class=\"c\"><li><a href=\"EssexCounty/\" title=\"Martial Arts Schools in Essex County, NJ\">Essex County</a> (67)</li>\n",
       "</ol>\n",
       "</li>\n",
       "<li><h4>G</h4>\n",
       "<ol class=\"c\"><li><a href=\"GloucesterCounty/\" title=\"Martial Arts Schools in Gloucester County, NJ\">Gloucester County</a> (30)</li>\n",
       "</ol>\n",
       "</li>\n",
       "<li><h4>H</h4>\n",
       "<ol class=\"c\"><li><a href=\"HudsonCounty/\" title=\"Martial Arts Schools in Hudson County, NJ\">Hudson County</a> (43)</li>\n",
       "<li><a href=\"HunterdonCounty/\" title=\"Martial Arts Schools in Hunterdon County, NJ\">Hunterdon County</a> (21)</li>\n",
       "</ol>\n",
       "</li>\n",
       "<li><h4>M</h4>\n",
       "<ol class=\"c\"><li><a href=\"MercerCounty/\" title=\"Martial Arts Schools in Mercer County, NJ\">Mercer County</a> (38)</li>\n",
       "<li><a href=\"MiddlesexCounty/\" title=\"Martial Arts Schools in Middlesex County, NJ\">Middlesex County</a> (64)</li>\n",
       "<li><a href=\"MonmouthCounty/\" title=\"Martial Arts Schools in Monmouth County, NJ\">Monmouth County</a> (92)</li>\n",
       "<li><a href=\"MorrisCounty/\" title=\"Martial Arts Schools in Morris County, NJ\">Morris County</a> (63)</li>\n",
       "</ol>\n",
       "</li>\n",
       "<li><h4>O</h4>\n",
       "<ol class=\"c\"><li><a href=\"OceanCounty/\" title=\"Martial Arts Schools in Ocean County, NJ\">Ocean County</a> (39)</li>\n",
       "</ol>\n",
       "</li>\n",
       "<li><h4>P</h4>\n",
       "<ol class=\"c\"><li><a href=\"PassaicCounty/\" title=\"Martial Arts Schools in Passaic County, NJ\">Passaic County</a> (45)</li>\n",
       "</ol>\n",
       "</li>\n",
       "<li><h4>S</h4>\n",
       "<ol class=\"c\"><li><a href=\"SalemCounty/\" title=\"Martial Arts Schools in Salem County, NJ\">Salem County</a> (7)</li>\n",
       "<li><a href=\"SomersetCounty/\" title=\"Martial Arts Schools in Somerset County, NJ\">Somerset County</a> (40)</li>\n",
       "<li><a href=\"SussexCounty/\" title=\"Martial Arts Schools in Sussex County, NJ\">Sussex County</a> (25)</li>\n",
       "</ol>\n",
       "</li>\n",
       "<li><h4>U</h4>\n",
       "<ol class=\"c\"><li><a href=\"UnionCounty/\" title=\"Martial Arts Schools in Union County, NJ\">Union County</a> (46)</li>\n",
       "</ol>\n",
       "</li>\n",
       "<li><h4>W</h4>\n",
       "<ol class=\"c\"><li><a href=\"WarrenCounty/\" title=\"Martial Arts Schools in Warren County, NJ\">Warren County</a> (18)</li>\n",
       "</ol>\n",
       "</li>\n",
       "</ul>"
      ]
     },
     "execution_count": 12,
     "metadata": {},
     "output_type": "execute_result"
    }
   ],
   "source": [
    "# Grabbing the list of counties in New Jersey\n",
    "state = soup.find('ul', class_ = \"olist\")\n",
    "state"
   ]
  },
  {
   "cell_type": "code",
   "execution_count": 13,
   "metadata": {
    "scrolled": true
   },
   "outputs": [
    {
     "data": {
      "text/plain": [
       "[<a href=\"AtlanticCounty/\" title=\"Martial Arts Schools in Atlantic County, NJ\">Atlantic County</a>,\n",
       " <a href=\"BergenCounty/\" title=\"Martial Arts Schools in Bergen County, NJ\">Bergen County</a>,\n",
       " <a href=\"BurlingtonCounty/\" title=\"Martial Arts Schools in Burlington County, NJ\">Burlington County</a>,\n",
       " <a href=\"CamdenCounty/\" title=\"Martial Arts Schools in Camden County, NJ\">Camden County</a>,\n",
       " <a href=\"CapeMayCounty/\" title=\"Martial Arts Schools in Cape May County, NJ\">Cape May County</a>,\n",
       " <a href=\"CumberlandCounty/\" title=\"Martial Arts Schools in Cumberland County, NJ\">Cumberland County</a>,\n",
       " <a href=\"EssexCounty/\" title=\"Martial Arts Schools in Essex County, NJ\">Essex County</a>,\n",
       " <a href=\"GloucesterCounty/\" title=\"Martial Arts Schools in Gloucester County, NJ\">Gloucester County</a>,\n",
       " <a href=\"HudsonCounty/\" title=\"Martial Arts Schools in Hudson County, NJ\">Hudson County</a>,\n",
       " <a href=\"HunterdonCounty/\" title=\"Martial Arts Schools in Hunterdon County, NJ\">Hunterdon County</a>,\n",
       " <a href=\"MercerCounty/\" title=\"Martial Arts Schools in Mercer County, NJ\">Mercer County</a>,\n",
       " <a href=\"MiddlesexCounty/\" title=\"Martial Arts Schools in Middlesex County, NJ\">Middlesex County</a>,\n",
       " <a href=\"MonmouthCounty/\" title=\"Martial Arts Schools in Monmouth County, NJ\">Monmouth County</a>,\n",
       " <a href=\"MorrisCounty/\" title=\"Martial Arts Schools in Morris County, NJ\">Morris County</a>,\n",
       " <a href=\"OceanCounty/\" title=\"Martial Arts Schools in Ocean County, NJ\">Ocean County</a>,\n",
       " <a href=\"PassaicCounty/\" title=\"Martial Arts Schools in Passaic County, NJ\">Passaic County</a>,\n",
       " <a href=\"SalemCounty/\" title=\"Martial Arts Schools in Salem County, NJ\">Salem County</a>,\n",
       " <a href=\"SomersetCounty/\" title=\"Martial Arts Schools in Somerset County, NJ\">Somerset County</a>,\n",
       " <a href=\"SussexCounty/\" title=\"Martial Arts Schools in Sussex County, NJ\">Sussex County</a>,\n",
       " <a href=\"UnionCounty/\" title=\"Martial Arts Schools in Union County, NJ\">Union County</a>,\n",
       " <a href=\"WarrenCounty/\" title=\"Martial Arts Schools in Warren County, NJ\">Warren County</a>]"
      ]
     },
     "execution_count": 13,
     "metadata": {},
     "output_type": "execute_result"
    }
   ],
   "source": [
    "# Pulling the individual counties\n",
    "county = state.find_all(\"a\")\n",
    "county"
   ]
  },
  {
   "cell_type": "code",
   "execution_count": 20,
   "metadata": {
    "scrolled": true
   },
   "outputs": [],
   "source": [
    "# Code to create a list of counties.\n",
    "\n",
    "county_tag = []\n",
    "state = soup.find('ul', class_ = \"olist\")\n",
    "county = state.find_all(\"a\")\n",
    "for i in range(len(county)):\n",
    "    county_tag.append(county[i].text)"
   ]
  },
  {
   "cell_type": "code",
   "execution_count": 21,
   "metadata": {
    "scrolled": true
   },
   "outputs": [
    {
     "data": {
      "text/plain": [
       "['Atlantic County',\n",
       " 'Bergen County',\n",
       " 'Burlington County',\n",
       " 'Camden County',\n",
       " 'Cape May County',\n",
       " 'Cumberland County',\n",
       " 'Essex County',\n",
       " 'Gloucester County',\n",
       " 'Hudson County',\n",
       " 'Hunterdon County',\n",
       " 'Mercer County',\n",
       " 'Middlesex County',\n",
       " 'Monmouth County',\n",
       " 'Morris County',\n",
       " 'Ocean County',\n",
       " 'Passaic County',\n",
       " 'Salem County',\n",
       " 'Somerset County',\n",
       " 'Sussex County',\n",
       " 'Union County',\n",
       " 'Warren County']"
      ]
     },
     "execution_count": 21,
     "metadata": {},
     "output_type": "execute_result"
    }
   ],
   "source": [
    "# To show the county tags.\n",
    "county_tag"
   ]
  },
  {
   "cell_type": "code",
   "execution_count": 22,
   "metadata": {},
   "outputs": [],
   "source": [
    "county = []\n",
    "for j in county_tag:\n",
    "    county_url = f\"https://dojos.info/NewJersey/{j}\"\n",
    "    county.append(county_url)"
   ]
  },
  {
   "cell_type": "code",
   "execution_count": 23,
   "metadata": {
    "scrolled": true
   },
   "outputs": [
    {
     "data": {
      "text/plain": [
       "['https://dojos.info/NewJersey/Atlantic County',\n",
       " 'https://dojos.info/NewJersey/Bergen County',\n",
       " 'https://dojos.info/NewJersey/Burlington County',\n",
       " 'https://dojos.info/NewJersey/Camden County',\n",
       " 'https://dojos.info/NewJersey/Cape May County',\n",
       " 'https://dojos.info/NewJersey/Cumberland County',\n",
       " 'https://dojos.info/NewJersey/Essex County',\n",
       " 'https://dojos.info/NewJersey/Gloucester County',\n",
       " 'https://dojos.info/NewJersey/Hudson County',\n",
       " 'https://dojos.info/NewJersey/Hunterdon County',\n",
       " 'https://dojos.info/NewJersey/Mercer County',\n",
       " 'https://dojos.info/NewJersey/Middlesex County',\n",
       " 'https://dojos.info/NewJersey/Monmouth County',\n",
       " 'https://dojos.info/NewJersey/Morris County',\n",
       " 'https://dojos.info/NewJersey/Ocean County',\n",
       " 'https://dojos.info/NewJersey/Passaic County',\n",
       " 'https://dojos.info/NewJersey/Salem County',\n",
       " 'https://dojos.info/NewJersey/Somerset County',\n",
       " 'https://dojos.info/NewJersey/Sussex County',\n",
       " 'https://dojos.info/NewJersey/Union County',\n",
       " 'https://dojos.info/NewJersey/Warren County']"
      ]
     },
     "execution_count": 23,
     "metadata": {},
     "output_type": "execute_result"
    }
   ],
   "source": [
    "county"
   ]
  },
  {
   "cell_type": "code",
   "execution_count": 86,
   "metadata": {
    "scrolled": true
   },
   "outputs": [
    {
     "data": {
      "text/plain": [
       "<h3><a href=\"/Acmfs/\">Cardo Urso's HABU PIT</a></h3>"
      ]
     },
     "execution_count": 86,
     "metadata": {},
     "output_type": "execute_result"
    }
   ],
   "source": [
    "county_url2 = 'https://dojos.info/NewJersey/AtlanticCounty/'\n",
    "response = requests.get(county_url2)\n",
    "\n",
    "soup = bs(response.text,\"html.parser\")\n",
    "ulist = soup.find('ul', class_ ='dojolist')\n",
    "\n",
    "dojo_link = ulist.find('h3')\n",
    "dojo_link"
   ]
  },
  {
   "cell_type": "code",
   "execution_count": 93,
   "metadata": {
    "scrolled": true
   },
   "outputs": [
    {
     "data": {
      "text/plain": [
       "['/Acmfs/',\n",
       " '/LightningLyallMMA/',\n",
       " '/LightningMMA/',\n",
       " '/SouthJerseyWingChun/',\n",
       " '/Ultimate-Martial-Arts-Academy4/',\n",
       " '/DevinesMartialArts/',\n",
       " '/HammontonKarate/',\n",
       " '/Rich_Miller_Srs_Dragon_Kenpo_Karate/',\n",
       " '/ShudokanKarateHammonton/',\n",
       " '/HammontonMA/',\n",
       " '/MacKenzieYatesMartialArtsHammonton/',\n",
       " '/ModernBujutsuHammonton/',\n",
       " '/ModestosKarateAcademies/',\n",
       " '/amerikickeht/',\n",
       " '/Freestyle/',\n",
       " '/SimkinsMartialArts/',\n",
       " '/EggHarborCombatHapkido/',\n",
       " '/ModernFightingConcepts/',\n",
       " '/ACSKC_Atlantic_County_Shotokan_Karate_Club/',\n",
       " '/DiamondsMMA/',\n",
       " '/American-Tang-Soo-Karate-Acdmy/',\n",
       " '/OceanTKD/',\n",
       " '/WorldCupKarate/',\n",
       " '/SmilingDragonKungFu/',\n",
       " '/LoggiKarate/',\n",
       " '/KarateKids/',\n",
       " '/SifuShamansWingChun/',\n",
       " '/Margate-Karate-Academy/',\n",
       " '/ModestosKarateAcademiesMargateCity/',\n",
       " '/Ninja-Academy/',\n",
       " '/BergenCountyBJJ/']"
      ]
     },
     "execution_count": 93,
     "metadata": {},
     "output_type": "execute_result"
    }
   ],
   "source": [
    "dank = []\n",
    "for ulist in soup.find_all('ul',class_ = 'dojolist'):\n",
    "    for h3 in ulist.find_all('h3'):\n",
    "        for a in h3.find_all('a'):\n",
    "            dank.append(a['href'])\n",
    "dank"
   ]
  },
  {
   "cell_type": "code",
   "execution_count": 61,
   "metadata": {},
   "outputs": [
    {
     "name": "stderr",
     "output_type": "stream",
     "text": [
      "[WDM] - Current google-chrome version is 87.0.4280\n",
      "[WDM] - Get LATEST driver version for 87.0.4280\n",
      "[WDM] - Driver [C:\\Users\\Kevin\\.wdm\\drivers\\chromedriver\\win32\\87.0.4280.88\\chromedriver.exe] found in cache\n"
     ]
    },
    {
     "name": "stdout",
     "output_type": "stream",
     "text": [
      " \n"
     ]
    }
   ],
   "source": [
    "# Launches browser to search\n",
    "executable_path = {'executable_path': ChromeDriverManager().install()}\n",
    "browser = Browser('chrome', **executable_path, headless=False)"
   ]
  },
  {
   "cell_type": "code",
   "execution_count": 62,
   "metadata": {},
   "outputs": [],
   "source": [
    "# Visits the url\n",
    "url = \"https://dojos.info/NewJersey/Counties.aspx\"\n",
    "# url = 'https://dojos.info/Acmfs/'\n",
    "browser.visit(url)\n",
    "html = browser.html\n",
    "soup = bs(html, \"html.parser\")"
   ]
  },
  {
   "cell_type": "code",
   "execution_count": 63,
   "metadata": {},
   "outputs": [],
   "source": [
    "# Searches the website for the link to the counties\n",
    "browser.links.find_by_partial_text(\"County\").click()"
   ]
  },
  {
   "cell_type": "code",
   "execution_count": 69,
   "metadata": {},
   "outputs": [
    {
     "data": {
      "text/plain": [
       "'https://dojos.info/Acmfs/'"
      ]
     },
     "execution_count": 69,
     "metadata": {},
     "output_type": "execute_result"
    }
   ],
   "source": [
    "browser.url"
   ]
  },
  {
   "cell_type": "code",
   "execution_count": 66,
   "metadata": {},
   "outputs": [],
   "source": [
    "# Selects the dojo list to click.\n",
    "ulist = browser.find_by_css('.dojolist')"
   ]
  },
  {
   "cell_type": "code",
   "execution_count": 67,
   "metadata": {
    "scrolled": true
   },
   "outputs": [],
   "source": [
    "# Click the the link to move to the dojo information.\n",
    "ulist.find_by_tag('a').click()"
   ]
  },
  {
   "cell_type": "code",
   "execution_count": 80,
   "metadata": {},
   "outputs": [
    {
     "name": "stdout",
     "output_type": "stream",
     "text": [
      "https://dojos.info/Acmfs/\n"
     ]
    },
    {
     "ename": "TypeError",
     "evalue": "'NoneType' object is not callable",
     "output_type": "error",
     "traceback": [
      "\u001b[1;31m---------------------------------------------------------------------------\u001b[0m",
      "\u001b[1;31mTypeError\u001b[0m                                 Traceback (most recent call last)",
      "\u001b[1;32m<ipython-input-80-5cbcf5a06d76>\u001b[0m in \u001b[0;36m<module>\u001b[1;34m\u001b[0m\n\u001b[0;32m      1\u001b[0m \u001b[0mprint\u001b[0m\u001b[1;33m(\u001b[0m\u001b[0mbrowser\u001b[0m\u001b[1;33m.\u001b[0m\u001b[0murl\u001b[0m\u001b[1;33m)\u001b[0m\u001b[1;33m\u001b[0m\u001b[1;33m\u001b[0m\u001b[0m\n\u001b[0;32m      2\u001b[0m \u001b[1;31m# Finds the address for the dojo.\u001b[0m\u001b[1;33m\u001b[0m\u001b[1;33m\u001b[0m\u001b[1;33m\u001b[0m\u001b[0m\n\u001b[1;32m----> 3\u001b[1;33m \u001b[0maddress\u001b[0m \u001b[1;33m=\u001b[0m \u001b[0msoup\u001b[0m\u001b[1;33m.\u001b[0m\u001b[0mfind_by_tag\u001b[0m\u001b[1;33m(\u001b[0m\u001b[1;34m'address'\u001b[0m\u001b[1;33m)\u001b[0m\u001b[1;33m\u001b[0m\u001b[1;33m\u001b[0m\u001b[0m\n\u001b[0m\u001b[0;32m      4\u001b[0m \u001b[1;33m\u001b[0m\u001b[0m\n\u001b[0;32m      5\u001b[0m \u001b[1;31m# 1. This will gather the text only, replacing <br> with \"|\"\u001b[0m\u001b[1;33m\u001b[0m\u001b[1;33m\u001b[0m\u001b[1;33m\u001b[0m\u001b[0m\n",
      "\u001b[1;31mTypeError\u001b[0m: 'NoneType' object is not callable"
     ]
    }
   ],
   "source": [
    "print(browser.url)\n",
    "# Finds the address for the dojo.\n",
    "address = soup.find_by_tag('address')\n",
    "\n",
    "# 1. This will gather the text only, replacing <br> with \"|\"\n",
    "# 2. Replaces \"\\r\\n\\t\\t\" to have the string look cleaner\n",
    "# 3. Splits the string to make it easier to grab the different parts\n",
    "clean_address = address.get_text(\"|\")\\\n",
    ".replace(\"\\n\\t\\t\",\"\")\\\n",
    ".split(\"|\")"
   ]
  },
  {
   "cell_type": "code",
   "execution_count": 9,
   "metadata": {},
   "outputs": [
    {
     "data": {
      "text/plain": [
       "['    2511 Fire Road, Unit 13 A',\n",
       " 'Egg Harbor Township',\n",
       " ', ',\n",
       " 'NJ',\n",
       " ' ',\n",
       " '08234',\n",
       " 'United States',\n",
       " '\\n']"
      ]
     },
     "execution_count": 9,
     "metadata": {},
     "output_type": "execute_result"
    }
   ],
   "source": [
    "clean_address"
   ]
  },
  {
   "cell_type": "code",
   "execution_count": 10,
   "metadata": {},
   "outputs": [],
   "source": [
    "# Quits out of the browser.\n",
    "browser.quit()"
   ]
  },
  {
   "cell_type": "markdown",
   "metadata": {},
   "source": [
    "The Code below is to start pulling information on the dojo"
   ]
  },
  {
   "cell_type": "code",
   "execution_count": null,
   "metadata": {},
   "outputs": [],
   "source": [
    "url2 = 'https://dojos.info/Acmfs/'\n",
    "response = requests.get(url2)\n",
    "\n",
    "# Using beautiful soup\n",
    "soup = bs(response.text,\"html.parser\")"
   ]
  },
  {
   "cell_type": "code",
   "execution_count": null,
   "metadata": {},
   "outputs": [],
   "source": [
    "address = soup.find('address')\n",
    "address"
   ]
  },
  {
   "cell_type": "code",
   "execution_count": null,
   "metadata": {},
   "outputs": [],
   "source": [
    "parts = address.find_all(\"a\")"
   ]
  },
  {
   "cell_type": "code",
   "execution_count": null,
   "metadata": {},
   "outputs": [],
   "source": [
    "for i in range(3):\n",
    "    print(parts[i].text)"
   ]
  },
  {
   "cell_type": "code",
   "execution_count": null,
   "metadata": {},
   "outputs": [],
   "source": [
    "part = soup.find('address', id='text')"
   ]
  },
  {
   "cell_type": "code",
   "execution_count": null,
   "metadata": {},
   "outputs": [],
   "source": [
    "# Finding the phone number.\n",
    "phone = soup.find(\"div\", class_ = \"phone\").get_text()\n",
    "dojo_phone = phone.replace(\"\\r\\n\\t\\t\",\"\").split()\n",
    "dojo_phone[1]"
   ]
  },
  {
   "cell_type": "code",
   "execution_count": null,
   "metadata": {},
   "outputs": [],
   "source": [
    "address.text"
   ]
  },
  {
   "cell_type": "code",
   "execution_count": null,
   "metadata": {},
   "outputs": [],
   "source": [
    "address"
   ]
  },
  {
   "cell_type": "markdown",
   "metadata": {},
   "source": [
    "Pulls the Address"
   ]
  },
  {
   "cell_type": "code",
   "execution_count": null,
   "metadata": {},
   "outputs": [],
   "source": [
    "new_address = address.get_text(\"|\")"
   ]
  },
  {
   "cell_type": "code",
   "execution_count": null,
   "metadata": {},
   "outputs": [],
   "source": [
    "new_address.replace(\" \",\"\")"
   ]
  },
  {
   "cell_type": "code",
   "execution_count": null,
   "metadata": {},
   "outputs": [],
   "source": [
    "first = new_address.split(\"|\")[0]"
   ]
  },
  {
   "cell_type": "code",
   "execution_count": null,
   "metadata": {},
   "outputs": [],
   "source": [
    "new_address.split(\"|\")"
   ]
  },
  {
   "cell_type": "code",
   "execution_count": null,
   "metadata": {},
   "outputs": [],
   "source": [
    "new_address.replace(\"\\r\\n\\t\\t\",\"\")"
   ]
  },
  {
   "cell_type": "code",
   "execution_count": null,
   "metadata": {},
   "outputs": [],
   "source": [
    "second = first.replace(\"\\r\\n\\t\\t\",\"\")"
   ]
  },
  {
   "cell_type": "code",
   "execution_count": null,
   "metadata": {},
   "outputs": [],
   "source": [
    "# Splits and joins the string.\n",
    "third = second.split()\n",
    "fourth = \" \".join(third)\n",
    "fourth"
   ]
  },
  {
   "cell_type": "code",
   "execution_count": null,
   "metadata": {},
   "outputs": [],
   "source": [
    "dojo_name = soup.find(\"div\", id =\"pageTop\")\n",
    "dojo_name.find(\"h1\").get_text()"
   ]
  },
  {
   "cell_type": "code",
   "execution_count": null,
   "metadata": {},
   "outputs": [],
   "source": [
    "url2 = 'https://dojos.info/Acmfs/'\n",
    "response = requests.get(url2)\n",
    "\n",
    "# Using beautiful soup\n",
    "soup = bs(response.text,\"html.parser\")\n",
    "\n",
    "address = soup.find('address')\n",
    "new_address = address.get_text(\"|\")\n",
    "clean_address = new_address.replace(\"\\r\\n\\t\\t\",\"\")\n",
    "parts = clean_address.split(\"|\")"
   ]
  },
  {
   "cell_type": "code",
   "execution_count": null,
   "metadata": {},
   "outputs": [],
   "source": [
    "parts"
   ]
  },
  {
   "cell_type": "code",
   "execution_count": null,
   "metadata": {},
   "outputs": [],
   "source": [
    "address.get_text(\"|\")\\\n",
    "    .replace(\"\\r\\n\\t\\t\",\"\")\\\n",
    "    .split(\"|\")"
   ]
  },
  {
   "cell_type": "code",
   "execution_count": null,
   "metadata": {},
   "outputs": [],
   "source": []
  }
 ],
 "metadata": {
  "kernelspec": {
   "display_name": "Python 3",
   "language": "python",
   "name": "python3"
  },
  "language_info": {
   "codemirror_mode": {
    "name": "ipython",
    "version": 3
   },
   "file_extension": ".py",
   "mimetype": "text/x-python",
   "name": "python",
   "nbconvert_exporter": "python",
   "pygments_lexer": "ipython3",
   "version": "3.7.7"
  }
 },
 "nbformat": 4,
 "nbformat_minor": 4
}
