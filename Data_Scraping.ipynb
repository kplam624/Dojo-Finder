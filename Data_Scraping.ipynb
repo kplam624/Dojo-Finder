{
 "cells": [
  {
   "cell_type": "markdown",
   "metadata": {},
   "source": [
    "This notebook contains the code in data scraping."
   ]
  },
  {
   "cell_type": "code",
   "execution_count": 1,
   "metadata": {},
   "outputs": [],
   "source": [
    "# Import the dependencies\n",
    "import pandas as pd\n",
    "from bs4 import BeautifulSoup as bs\n",
    "import requests\n",
    "import time\n",
    "from splinter import Browser\n",
    "from webdriver_manager.chrome import ChromeDriverManager"
   ]
  },
  {
   "cell_type": "code",
   "execution_count": 76,
   "metadata": {},
   "outputs": [
    {
     "name": "stdout",
     "output_type": "stream",
     "text": [
      "<Response [200]>\n"
     ]
    }
   ],
   "source": [
    "# Setting the url\n",
    "url = \"https://dojos.info/NewJersey/Counties.aspx\"\n",
    "\n",
    "# Creating the response\n",
    "response = requests.get(url)\n",
    "\n",
    "print(response)\n",
    "\n",
    "# Using beautiful soup\n",
    "soup = bs(response.text,\"lxml\")"
   ]
  },
  {
   "cell_type": "code",
   "execution_count": 3,
   "metadata": {
    "scrolled": true
   },
   "outputs": [
    {
     "data": {
      "text/plain": [
       "<ul class=\"olist\">\n",
       "<li><h4>A</h4>\n",
       "<ol class=\"c\"><li><a href=\"AtlanticCounty/\" title=\"Martial Arts Schools in Atlantic County, NJ\">Atlantic County</a> (31)</li>\n",
       "</ol>\n",
       "</li>\n",
       "<li><h4>B</h4>\n",
       "<ol class=\"c\"><li><a href=\"BergenCounty/\" title=\"Martial Arts Schools in Bergen County, NJ\">Bergen County</a> (126)</li>\n",
       "<li><a href=\"BurlingtonCounty/\" title=\"Martial Arts Schools in Burlington County, NJ\">Burlington County</a> (44)</li>\n",
       "</ol>\n",
       "</li>\n",
       "<li><h4>C</h4>\n",
       "<ol class=\"c\"><li><a href=\"CamdenCounty/\" title=\"Martial Arts Schools in Camden County, NJ\">Camden County</a> (55)</li>\n",
       "<li><a href=\"CapeMayCounty/\" title=\"Martial Arts Schools in Cape May County, NJ\">Cape May County</a> (8)</li>\n",
       "<li><a href=\"CumberlandCounty/\" title=\"Martial Arts Schools in Cumberland County, NJ\">Cumberland County</a> (15)</li>\n",
       "</ol>\n",
       "</li>\n",
       "<li><h4>E</h4>\n",
       "<ol class=\"c\"><li><a href=\"EssexCounty/\" title=\"Martial Arts Schools in Essex County, NJ\">Essex County</a> (67)</li>\n",
       "</ol>\n",
       "</li>\n",
       "<li><h4>G</h4>\n",
       "<ol class=\"c\"><li><a href=\"GloucesterCounty/\" title=\"Martial Arts Schools in Gloucester County, NJ\">Gloucester County</a> (30)</li>\n",
       "</ol>\n",
       "</li>\n",
       "<li><h4>H</h4>\n",
       "<ol class=\"c\"><li><a href=\"HudsonCounty/\" title=\"Martial Arts Schools in Hudson County, NJ\">Hudson County</a> (43)</li>\n",
       "<li><a href=\"HunterdonCounty/\" title=\"Martial Arts Schools in Hunterdon County, NJ\">Hunterdon County</a> (21)</li>\n",
       "</ol>\n",
       "</li>\n",
       "<li><h4>M</h4>\n",
       "<ol class=\"c\"><li><a href=\"MercerCounty/\" title=\"Martial Arts Schools in Mercer County, NJ\">Mercer County</a> (38)</li>\n",
       "<li><a href=\"MiddlesexCounty/\" title=\"Martial Arts Schools in Middlesex County, NJ\">Middlesex County</a> (64)</li>\n",
       "<li><a href=\"MonmouthCounty/\" title=\"Martial Arts Schools in Monmouth County, NJ\">Monmouth County</a> (92)</li>\n",
       "<li><a href=\"MorrisCounty/\" title=\"Martial Arts Schools in Morris County, NJ\">Morris County</a> (63)</li>\n",
       "</ol>\n",
       "</li>\n",
       "<li><h4>O</h4>\n",
       "<ol class=\"c\"><li><a href=\"OceanCounty/\" title=\"Martial Arts Schools in Ocean County, NJ\">Ocean County</a> (39)</li>\n",
       "</ol>\n",
       "</li>\n",
       "<li><h4>P</h4>\n",
       "<ol class=\"c\"><li><a href=\"PassaicCounty/\" title=\"Martial Arts Schools in Passaic County, NJ\">Passaic County</a> (45)</li>\n",
       "</ol>\n",
       "</li>\n",
       "<li><h4>S</h4>\n",
       "<ol class=\"c\"><li><a href=\"SalemCounty/\" title=\"Martial Arts Schools in Salem County, NJ\">Salem County</a> (7)</li>\n",
       "<li><a href=\"SomersetCounty/\" title=\"Martial Arts Schools in Somerset County, NJ\">Somerset County</a> (40)</li>\n",
       "<li><a href=\"SussexCounty/\" title=\"Martial Arts Schools in Sussex County, NJ\">Sussex County</a> (25)</li>\n",
       "</ol>\n",
       "</li>\n",
       "<li><h4>U</h4>\n",
       "<ol class=\"c\"><li><a href=\"UnionCounty/\" title=\"Martial Arts Schools in Union County, NJ\">Union County</a> (46)</li>\n",
       "</ol>\n",
       "</li>\n",
       "<li><h4>W</h4>\n",
       "<ol class=\"c\"><li><a href=\"WarrenCounty/\" title=\"Martial Arts Schools in Warren County, NJ\">Warren County</a> (18)</li>\n",
       "</ol>\n",
       "</li>\n",
       "</ul>"
      ]
     },
     "execution_count": 3,
     "metadata": {},
     "output_type": "execute_result"
    }
   ],
   "source": [
    "# Grabbing the list of counties in New Jersey\n",
    "state = soup.find('ul', class_ = \"olist\")\n",
    "state"
   ]
  },
  {
   "cell_type": "code",
   "execution_count": 4,
   "metadata": {
    "scrolled": true
   },
   "outputs": [
    {
     "data": {
      "text/plain": [
       "[<a href=\"AtlanticCounty/\" title=\"Martial Arts Schools in Atlantic County, NJ\">Atlantic County</a>,\n",
       " <a href=\"BergenCounty/\" title=\"Martial Arts Schools in Bergen County, NJ\">Bergen County</a>,\n",
       " <a href=\"BurlingtonCounty/\" title=\"Martial Arts Schools in Burlington County, NJ\">Burlington County</a>,\n",
       " <a href=\"CamdenCounty/\" title=\"Martial Arts Schools in Camden County, NJ\">Camden County</a>,\n",
       " <a href=\"CapeMayCounty/\" title=\"Martial Arts Schools in Cape May County, NJ\">Cape May County</a>,\n",
       " <a href=\"CumberlandCounty/\" title=\"Martial Arts Schools in Cumberland County, NJ\">Cumberland County</a>,\n",
       " <a href=\"EssexCounty/\" title=\"Martial Arts Schools in Essex County, NJ\">Essex County</a>,\n",
       " <a href=\"GloucesterCounty/\" title=\"Martial Arts Schools in Gloucester County, NJ\">Gloucester County</a>,\n",
       " <a href=\"HudsonCounty/\" title=\"Martial Arts Schools in Hudson County, NJ\">Hudson County</a>,\n",
       " <a href=\"HunterdonCounty/\" title=\"Martial Arts Schools in Hunterdon County, NJ\">Hunterdon County</a>,\n",
       " <a href=\"MercerCounty/\" title=\"Martial Arts Schools in Mercer County, NJ\">Mercer County</a>,\n",
       " <a href=\"MiddlesexCounty/\" title=\"Martial Arts Schools in Middlesex County, NJ\">Middlesex County</a>,\n",
       " <a href=\"MonmouthCounty/\" title=\"Martial Arts Schools in Monmouth County, NJ\">Monmouth County</a>,\n",
       " <a href=\"MorrisCounty/\" title=\"Martial Arts Schools in Morris County, NJ\">Morris County</a>,\n",
       " <a href=\"OceanCounty/\" title=\"Martial Arts Schools in Ocean County, NJ\">Ocean County</a>,\n",
       " <a href=\"PassaicCounty/\" title=\"Martial Arts Schools in Passaic County, NJ\">Passaic County</a>,\n",
       " <a href=\"SalemCounty/\" title=\"Martial Arts Schools in Salem County, NJ\">Salem County</a>,\n",
       " <a href=\"SomersetCounty/\" title=\"Martial Arts Schools in Somerset County, NJ\">Somerset County</a>,\n",
       " <a href=\"SussexCounty/\" title=\"Martial Arts Schools in Sussex County, NJ\">Sussex County</a>,\n",
       " <a href=\"UnionCounty/\" title=\"Martial Arts Schools in Union County, NJ\">Union County</a>,\n",
       " <a href=\"WarrenCounty/\" title=\"Martial Arts Schools in Warren County, NJ\">Warren County</a>]"
      ]
     },
     "execution_count": 4,
     "metadata": {},
     "output_type": "execute_result"
    }
   ],
   "source": [
    "# Pulling the individual counties\n",
    "county = state.find_all(\"a\")\n",
    "county"
   ]
  },
  {
   "cell_type": "code",
   "execution_count": 5,
   "metadata": {
    "scrolled": true
   },
   "outputs": [],
   "source": [
    "# Code to create a list of counties.\n",
    "\n",
    "county_tag = []\n",
    "state = soup.find('ul', class_ = \"olist\")\n",
    "county = state.find_all(\"a\")\n",
    "for i in range(len(county)):\n",
    "    county_tag.append(county[i].text)"
   ]
  },
  {
   "cell_type": "code",
   "execution_count": 6,
   "metadata": {
    "scrolled": true
   },
   "outputs": [
    {
     "data": {
      "text/plain": [
       "['Atlantic County',\n",
       " 'Bergen County',\n",
       " 'Burlington County',\n",
       " 'Camden County',\n",
       " 'Cape May County',\n",
       " 'Cumberland County',\n",
       " 'Essex County',\n",
       " 'Gloucester County',\n",
       " 'Hudson County',\n",
       " 'Hunterdon County',\n",
       " 'Mercer County',\n",
       " 'Middlesex County',\n",
       " 'Monmouth County',\n",
       " 'Morris County',\n",
       " 'Ocean County',\n",
       " 'Passaic County',\n",
       " 'Salem County',\n",
       " 'Somerset County',\n",
       " 'Sussex County',\n",
       " 'Union County',\n",
       " 'Warren County']"
      ]
     },
     "execution_count": 6,
     "metadata": {},
     "output_type": "execute_result"
    }
   ],
   "source": [
    "# To show the county tags.\n",
    "county_tag"
   ]
  },
  {
   "cell_type": "code",
   "execution_count": 7,
   "metadata": {},
   "outputs": [
    {
     "name": "stderr",
     "output_type": "stream",
     "text": [
      "[WDM] - Current google-chrome version is 87.0.4280\n",
      "[WDM] - Get LATEST driver version for 87.0.4280\n"
     ]
    },
    {
     "name": "stdout",
     "output_type": "stream",
     "text": [
      " \n"
     ]
    },
    {
     "name": "stderr",
     "output_type": "stream",
     "text": [
      "[WDM] - Get LATEST driver version for 87.0.4280\n",
      "[WDM] - Trying to download new driver from http://chromedriver.storage.googleapis.com/87.0.4280.88/chromedriver_win32.zip\n",
      "[WDM] - Driver has been saved in cache [C:\\Users\\Kevin\\.wdm\\drivers\\chromedriver\\win32\\87.0.4280.88]\n"
     ]
    }
   ],
   "source": [
    "# Launches browser to search\n",
    "executable_path = {'executable_path': ChromeDriverManager().install()}\n",
    "browser = Browser('chrome', **executable_path, headless=False)"
   ]
  },
  {
   "cell_type": "code",
   "execution_count": 9,
   "metadata": {},
   "outputs": [],
   "source": [
    "# Visits the url\n",
    "browser.visit(url)\n",
    "html = browser.html\n",
    "soup = bs(html, \"html.parser\")"
   ]
  },
  {
   "cell_type": "code",
   "execution_count": 15,
   "metadata": {},
   "outputs": [],
   "source": [
    "# Searches the website for the link to the counties\n",
    "browser.links.find_by_partial_text(\"County\").click()"
   ]
  },
  {
   "cell_type": "code",
   "execution_count": 34,
   "metadata": {},
   "outputs": [
    {
     "data": {
      "text/plain": [
       "<splinter.element_list.ElementList at 0x2dfb7e59ec8>"
      ]
     },
     "execution_count": 34,
     "metadata": {},
     "output_type": "execute_result"
    }
   ],
   "source": [
    "# Selects the dojo list to click.\n",
    "ulist = browser.find_by_css('.dojolist')"
   ]
  },
  {
   "cell_type": "code",
   "execution_count": 37,
   "metadata": {
    "scrolled": true
   },
   "outputs": [],
   "source": [
    "# Click the the link to find the value.\n",
    "ulist.find_by_tag('a').click()"
   ]
  },
  {
   "cell_type": "code",
   "execution_count": 99,
   "metadata": {},
   "outputs": [],
   "source": [
    "# Quits out of the browser.\n",
    "browser.quit()"
   ]
  },
  {
   "cell_type": "code",
   "execution_count": 81,
   "metadata": {},
   "outputs": [],
   "source": [
    "\n",
    "url2 = 'https://dojos.info/Acmfs/'\n",
    "response = requests.get(url2)\n",
    "\n",
    "# Using beautiful soup\n",
    "soup = bs(response.text,\"html.parser\")"
   ]
  },
  {
   "cell_type": "code",
   "execution_count": 49,
   "metadata": {},
   "outputs": [
    {
     "data": {
      "text/plain": [
       "<address>\n",
       "\t\t    2511 Fire Road, Unit 13 A<br/><a href=\"/NewJersey/EggHarborTownship/\">Egg Harbor Township</a>, <a href=\"/NewJersey/\">NJ</a> <a href=\"/Zip/08234/\">08234</a><br/>United States<br/>\n",
       "</address>"
      ]
     },
     "execution_count": 49,
     "metadata": {},
     "output_type": "execute_result"
    }
   ],
   "source": [
    "address = soup.find('address')\n",
    "address"
   ]
  },
  {
   "cell_type": "code",
   "execution_count": 52,
   "metadata": {},
   "outputs": [],
   "source": [
    "parts = address.find_all(\"a\")"
   ]
  },
  {
   "cell_type": "code",
   "execution_count": 54,
   "metadata": {},
   "outputs": [
    {
     "name": "stdout",
     "output_type": "stream",
     "text": [
      "Egg Harbor Township\n",
      "NJ\n",
      "08234\n"
     ]
    }
   ],
   "source": [
    "for i in range(3):\n",
    "    print(parts[i].text)"
   ]
  },
  {
   "cell_type": "code",
   "execution_count": 64,
   "metadata": {},
   "outputs": [],
   "source": [
    "part = soup.find('address', id='text')"
   ]
  },
  {
   "cell_type": "code",
   "execution_count": 69,
   "metadata": {},
   "outputs": [
    {
     "data": {
      "text/plain": [
       "'\\r\\n            Phone: 609-415-5014\\r\\n        '"
      ]
     },
     "execution_count": 69,
     "metadata": {},
     "output_type": "execute_result"
    }
   ],
   "source": [
    "soup.find(\"div\", class_ = \"phone\").text"
   ]
  },
  {
   "cell_type": "code",
   "execution_count": 74,
   "metadata": {},
   "outputs": [
    {
     "data": {
      "text/plain": [
       "'\\r\\n\\t\\t    2511 Fire Road, Unit 13 AEgg Harbor Township, NJ 08234United States\\n'"
      ]
     },
     "execution_count": 74,
     "metadata": {},
     "output_type": "execute_result"
    }
   ],
   "source": [
    "address.text"
   ]
  },
  {
   "cell_type": "code",
   "execution_count": 78,
   "metadata": {},
   "outputs": [
    {
     "data": {
      "text/plain": [
       "<address>\n",
       "\t\t    2511 Fire Road, Unit 13 A<a href=\"/NewJersey/EggHarborTownship/\">Egg Harbor Township</a>, <a href=\"/NewJersey/\">NJ</a> <a href=\"/Zip/08234/\">08234</a>United States\n",
       "</address>"
      ]
     },
     "execution_count": 78,
     "metadata": {},
     "output_type": "execute_result"
    }
   ],
   "source": [
    "address"
   ]
  },
  {
   "cell_type": "code",
   "execution_count": 85,
   "metadata": {},
   "outputs": [],
   "source": [
    "new_address = address.get_text(\"|\")"
   ]
  },
  {
   "cell_type": "code",
   "execution_count": 87,
   "metadata": {},
   "outputs": [
    {
     "data": {
      "text/plain": [
       "'\\r\\n\\t\\t2511FireRoad,Unit13A|EggHarborTownship|,|NJ||08234|UnitedStates|\\n'"
      ]
     },
     "execution_count": 87,
     "metadata": {},
     "output_type": "execute_result"
    }
   ],
   "source": [
    "new_address.replace(\" \",\"\")"
   ]
  },
  {
   "cell_type": "code",
   "execution_count": 90,
   "metadata": {},
   "outputs": [],
   "source": [
    "first = new_address.split(\"|\")[0]"
   ]
  },
  {
   "cell_type": "code",
   "execution_count": 92,
   "metadata": {},
   "outputs": [],
   "source": [
    "second = first.replace(\"\\r\\n\\t\\t\",\"\")"
   ]
  },
  {
   "cell_type": "code",
   "execution_count": 97,
   "metadata": {},
   "outputs": [
    {
     "data": {
      "text/plain": [
       "'2511 Fire Road, Unit 13 A'"
      ]
     },
     "execution_count": 97,
     "metadata": {},
     "output_type": "execute_result"
    }
   ],
   "source": [
    "third = second.split()\n",
    "fourth = \" \".join(third)\n",
    "fourth"
   ]
  },
  {
   "cell_type": "code",
   "execution_count": null,
   "metadata": {},
   "outputs": [],
   "source": []
  }
 ],
 "metadata": {
  "kernelspec": {
   "display_name": "Python 3",
   "language": "python",
   "name": "python3"
  },
  "language_info": {
   "codemirror_mode": {
    "name": "ipython",
    "version": 3
   },
   "file_extension": ".py",
   "mimetype": "text/x-python",
   "name": "python",
   "nbconvert_exporter": "python",
   "pygments_lexer": "ipython3",
   "version": "3.7.7"
  }
 },
 "nbformat": 4,
 "nbformat_minor": 4
}
