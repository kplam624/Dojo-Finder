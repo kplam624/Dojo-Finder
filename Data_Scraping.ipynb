{
 "cells": [
  {
   "cell_type": "markdown",
   "metadata": {},
   "source": [
    "This notebook contains the code in data scraping."
   ]
  },
  {
   "cell_type": "code",
   "execution_count": 14,
   "metadata": {},
   "outputs": [],
   "source": [
    "# Import the dependencies\n",
    "import pandas as pd\n",
    "from bs4 import BeautifulSoup as bs\n",
    "import requests"
   ]
  },
  {
   "cell_type": "code",
   "execution_count": 15,
   "metadata": {},
   "outputs": [
    {
     "name": "stdout",
     "output_type": "stream",
     "text": [
      "<Response [200]>\n"
     ]
    }
   ],
   "source": [
    "# Setting the url\n",
    "url = \"https://dojos.info/NewJersey/Counties.aspx\"\n",
    "\n",
    "# Creating the response\n",
    "response = requests.get(url)\n",
    "\n",
    "print(response)\n",
    "\n",
    "# Using beautiful soup\n",
    "soup = bs(response.text, \"lxml\")"
   ]
  },
  {
   "cell_type": "code",
   "execution_count": 50,
   "metadata": {
    "scrolled": true
   },
   "outputs": [
    {
     "data": {
      "text/plain": [
       "<ul class=\"olist\">\n",
       "<li><h4>A</h4>\n",
       "<ol class=\"c\"><li><a href=\"AtlanticCounty/\" title=\"Martial Arts Schools in Atlantic County, NJ\">Atlantic County</a> (31)</li>\n",
       "</ol>\n",
       "</li>\n",
       "<li><h4>B</h4>\n",
       "<ol class=\"c\"><li><a href=\"BergenCounty/\" title=\"Martial Arts Schools in Bergen County, NJ\">Bergen County</a> (126)</li>\n",
       "<li><a href=\"BurlingtonCounty/\" title=\"Martial Arts Schools in Burlington County, NJ\">Burlington County</a> (44)</li>\n",
       "</ol>\n",
       "</li>\n",
       "<li><h4>C</h4>\n",
       "<ol class=\"c\"><li><a href=\"CamdenCounty/\" title=\"Martial Arts Schools in Camden County, NJ\">Camden County</a> (55)</li>\n",
       "<li><a href=\"CapeMayCounty/\" title=\"Martial Arts Schools in Cape May County, NJ\">Cape May County</a> (8)</li>\n",
       "<li><a href=\"CumberlandCounty/\" title=\"Martial Arts Schools in Cumberland County, NJ\">Cumberland County</a> (15)</li>\n",
       "</ol>\n",
       "</li>\n",
       "<li><h4>E</h4>\n",
       "<ol class=\"c\"><li><a href=\"EssexCounty/\" title=\"Martial Arts Schools in Essex County, NJ\">Essex County</a> (67)</li>\n",
       "</ol>\n",
       "</li>\n",
       "<li><h4>G</h4>\n",
       "<ol class=\"c\"><li><a href=\"GloucesterCounty/\" title=\"Martial Arts Schools in Gloucester County, NJ\">Gloucester County</a> (30)</li>\n",
       "</ol>\n",
       "</li>\n",
       "<li><h4>H</h4>\n",
       "<ol class=\"c\"><li><a href=\"HudsonCounty/\" title=\"Martial Arts Schools in Hudson County, NJ\">Hudson County</a> (43)</li>\n",
       "<li><a href=\"HunterdonCounty/\" title=\"Martial Arts Schools in Hunterdon County, NJ\">Hunterdon County</a> (21)</li>\n",
       "</ol>\n",
       "</li>\n",
       "<li><h4>M</h4>\n",
       "<ol class=\"c\"><li><a href=\"MercerCounty/\" title=\"Martial Arts Schools in Mercer County, NJ\">Mercer County</a> (38)</li>\n",
       "<li><a href=\"MiddlesexCounty/\" title=\"Martial Arts Schools in Middlesex County, NJ\">Middlesex County</a> (64)</li>\n",
       "<li><a href=\"MonmouthCounty/\" title=\"Martial Arts Schools in Monmouth County, NJ\">Monmouth County</a> (92)</li>\n",
       "<li><a href=\"MorrisCounty/\" title=\"Martial Arts Schools in Morris County, NJ\">Morris County</a> (63)</li>\n",
       "</ol>\n",
       "</li>\n",
       "<li><h4>O</h4>\n",
       "<ol class=\"c\"><li><a href=\"OceanCounty/\" title=\"Martial Arts Schools in Ocean County, NJ\">Ocean County</a> (39)</li>\n",
       "</ol>\n",
       "</li>\n",
       "<li><h4>P</h4>\n",
       "<ol class=\"c\"><li><a href=\"PassaicCounty/\" title=\"Martial Arts Schools in Passaic County, NJ\">Passaic County</a> (45)</li>\n",
       "</ol>\n",
       "</li>\n",
       "<li><h4>S</h4>\n",
       "<ol class=\"c\"><li><a href=\"SalemCounty/\" title=\"Martial Arts Schools in Salem County, NJ\">Salem County</a> (7)</li>\n",
       "<li><a href=\"SomersetCounty/\" title=\"Martial Arts Schools in Somerset County, NJ\">Somerset County</a> (40)</li>\n",
       "<li><a href=\"SussexCounty/\" title=\"Martial Arts Schools in Sussex County, NJ\">Sussex County</a> (25)</li>\n",
       "</ol>\n",
       "</li>\n",
       "<li><h4>U</h4>\n",
       "<ol class=\"c\"><li><a href=\"UnionCounty/\" title=\"Martial Arts Schools in Union County, NJ\">Union County</a> (46)</li>\n",
       "</ol>\n",
       "</li>\n",
       "<li><h4>W</h4>\n",
       "<ol class=\"c\"><li><a href=\"WarrenCounty/\" title=\"Martial Arts Schools in Warren County, NJ\">Warren County</a> (18)</li>\n",
       "</ol>\n",
       "</li>\n",
       "</ul>"
      ]
     },
     "execution_count": 50,
     "metadata": {},
     "output_type": "execute_result"
    }
   ],
   "source": [
    "# Grabbing the list of counties in New Jersey\n",
    "state = soup.find_all('ul', class_ = \"olist\")[0]\n",
    "state"
   ]
  },
  {
   "cell_type": "code",
   "execution_count": 51,
   "metadata": {
    "scrolled": true
   },
   "outputs": [
    {
     "data": {
      "text/plain": [
       "[]"
      ]
     },
     "execution_count": 51,
     "metadata": {},
     "output_type": "execute_result"
    }
   ],
   "source": [
    "# Pulling the individual counties\n",
    "county = state.find_all(\"li\", class_ = \"a\")\n",
    "county"
   ]
  },
  {
   "cell_type": "code",
   "execution_count": 44,
   "metadata": {},
   "outputs": [
    {
     "data": {
      "text/plain": [
       "'A\\nAtlantic County (31)\\n\\n'"
      ]
     },
     "execution_count": 44,
     "metadata": {},
     "output_type": "execute_result"
    }
   ],
   "source": [
    "county[0].text"
   ]
  },
  {
   "cell_type": "code",
   "execution_count": 45,
   "metadata": {},
   "outputs": [
    {
     "data": {
      "text/plain": [
       "33"
      ]
     },
     "execution_count": 45,
     "metadata": {},
     "output_type": "execute_result"
    }
   ],
   "source": [
    "len(county)"
   ]
  },
  {
   "cell_type": "code",
   "execution_count": 46,
   "metadata": {
    "scrolled": true
   },
   "outputs": [
    {
     "name": "stdout",
     "output_type": "stream",
     "text": [
      "A\n",
      "Atlantic County (31)\n",
      "\n",
      "\n",
      "Atlantic County (31)\n",
      "B\n",
      "Bergen County (126)\n",
      "Burlington County (44)\n",
      "\n",
      "\n",
      "Bergen County (126)\n",
      "Burlington County (44)\n",
      "C\n",
      "Camden County (55)\n",
      "Cape May County (8)\n",
      "Cumberland County (15)\n",
      "\n",
      "\n",
      "Camden County (55)\n",
      "Cape May County (8)\n",
      "Cumberland County (15)\n",
      "E\n",
      "Essex County (67)\n",
      "\n",
      "\n",
      "Essex County (67)\n",
      "G\n",
      "Gloucester County (30)\n",
      "\n",
      "\n",
      "Gloucester County (30)\n",
      "H\n",
      "Hudson County (43)\n",
      "Hunterdon County (21)\n",
      "\n",
      "\n",
      "Hudson County (43)\n",
      "Hunterdon County (21)\n",
      "M\n",
      "Mercer County (38)\n",
      "Middlesex County (64)\n",
      "Monmouth County (92)\n",
      "Morris County (63)\n",
      "\n",
      "\n",
      "Mercer County (38)\n",
      "Middlesex County (64)\n",
      "Monmouth County (92)\n",
      "Morris County (63)\n",
      "O\n",
      "Ocean County (39)\n",
      "\n",
      "\n",
      "Ocean County (39)\n",
      "P\n",
      "Passaic County (45)\n",
      "\n",
      "\n",
      "Passaic County (45)\n",
      "S\n",
      "Salem County (7)\n",
      "Somerset County (40)\n",
      "Sussex County (25)\n",
      "\n",
      "\n",
      "Salem County (7)\n",
      "Somerset County (40)\n",
      "Sussex County (25)\n",
      "U\n",
      "Union County (46)\n",
      "\n",
      "\n",
      "Union County (46)\n",
      "W\n",
      "Warren County (18)\n",
      "\n",
      "\n",
      "Warren County (18)\n"
     ]
    }
   ],
   "source": [
    "\n",
    "for i in range(len(county)):\n",
    "    print(county[i].text)"
   ]
  },
  {
   "cell_type": "code",
   "execution_count": null,
   "metadata": {},
   "outputs": [],
   "source": []
  }
 ],
 "metadata": {
  "kernelspec": {
   "display_name": "Python 3",
   "language": "python",
   "name": "python3"
  },
  "language_info": {
   "codemirror_mode": {
    "name": "ipython",
    "version": 3
   },
   "file_extension": ".py",
   "mimetype": "text/x-python",
   "name": "python",
   "nbconvert_exporter": "python",
   "pygments_lexer": "ipython3",
   "version": "3.7.7"
  }
 },
 "nbformat": 4,
 "nbformat_minor": 4
}
