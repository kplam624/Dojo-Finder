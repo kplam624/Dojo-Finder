{
 "cells": [
  {
   "cell_type": "markdown",
   "metadata": {},
   "source": [
    "This notebook contains the code in data scraping."
   ]
  },
  {
   "cell_type": "code",
   "execution_count": 1,
   "metadata": {},
   "outputs": [],
   "source": [
    "# Import the dependencies\n",
    "import pandas as pd\n",
    "from bs4 import BeautifulSoup as bs\n",
    "import requests\n",
    "import json\n",
    "import time\n",
    "from splinter import Browser\n",
    "from webdriver_manager.chrome import ChromeDriverManager\n",
    "from config import gkey"
   ]
  },
  {
   "cell_type": "code",
   "execution_count": 2,
   "metadata": {
    "scrolled": true
   },
   "outputs": [
    {
     "data": {
      "text/plain": [
       "['https://dojos.info/NewJersey/AtlanticCounty',\n",
       " 'https://dojos.info/NewJersey/BergenCounty',\n",
       " 'https://dojos.info/NewJersey/BurlingtonCounty',\n",
       " 'https://dojos.info/NewJersey/CamdenCounty',\n",
       " 'https://dojos.info/NewJersey/CapeMayCounty',\n",
       " 'https://dojos.info/NewJersey/CumberlandCounty',\n",
       " 'https://dojos.info/NewJersey/EssexCounty',\n",
       " 'https://dojos.info/NewJersey/GloucesterCounty',\n",
       " 'https://dojos.info/NewJersey/HudsonCounty',\n",
       " 'https://dojos.info/NewJersey/HunterdonCounty',\n",
       " 'https://dojos.info/NewJersey/MercerCounty',\n",
       " 'https://dojos.info/NewJersey/MiddlesexCounty',\n",
       " 'https://dojos.info/NewJersey/MonmouthCounty',\n",
       " 'https://dojos.info/NewJersey/MorrisCounty',\n",
       " 'https://dojos.info/NewJersey/OceanCounty',\n",
       " 'https://dojos.info/NewJersey/PassaicCounty',\n",
       " 'https://dojos.info/NewJersey/SalemCounty',\n",
       " 'https://dojos.info/NewJersey/SomersetCounty',\n",
       " 'https://dojos.info/NewJersey/SussexCounty',\n",
       " 'https://dojos.info/NewJersey/UnionCounty',\n",
       " 'https://dojos.info/NewJersey/WarrenCounty']"
      ]
     },
     "execution_count": 2,
     "metadata": {},
     "output_type": "execute_result"
    }
   ],
   "source": [
    "# Setting the url\n",
    "url = \"https://dojos.info/NewJersey/Counties.aspx\"\n",
    "\n",
    "# Creating the response\n",
    "response = requests.get(url)\n",
    "\n",
    "# Using beautiful soup\n",
    "soup = bs(response.text,\"html.parser\")\n",
    "\n",
    "# Code to create a list of counties.\n",
    "\n",
    "county_tag = []\n",
    "countylist = []\n",
    "\n",
    "state = soup.find('ul', class_ = \"olist\")\n",
    "county = state.find_all(\"a\")\n",
    "for i in range(len(county)):\n",
    "    county_tag.append(county[i].text)\n",
    "\n",
    "for j in county_tag:\n",
    "    counties = j.replace(\" \",\"\")\n",
    "    county_url = f\"https://dojos.info/NewJersey/{counties}\"\n",
    "    countylist.append(county_url)\n",
    "countylist"
   ]
  },
  {
   "cell_type": "code",
   "execution_count": 3,
   "metadata": {
    "scrolled": true
   },
   "outputs": [
    {
     "name": "stderr",
     "output_type": "stream",
     "text": [
      "[WDM] - Current google-chrome version is 87.0.4280\n",
      "[WDM] - Get LATEST driver version for 87.0.4280\n",
      "[WDM] - Driver [C:\\Users\\Kevin\\.wdm\\drivers\\chromedriver\\win32\\87.0.4280.88\\chromedriver.exe] found in cache\n"
     ]
    },
    {
     "name": "stdout",
     "output_type": "stream",
     "text": [
      " \n"
     ]
    }
   ],
   "source": [
    "# Launches browser to search\n",
    "executable_path = {'executable_path': ChromeDriverManager().install()}\n",
    "browser = Browser('chrome', **executable_path, headless=False)"
   ]
  },
  {
   "cell_type": "code",
   "execution_count": null,
   "metadata": {
    "scrolled": true
   },
   "outputs": [],
   "source": [
    "dojo_list = []\n",
    "\n",
    "# Visits the url\n",
    "url = \"https://dojos.info/NewJersey/Counties.aspx\"\n",
    "browser.visit(url)\n",
    "html = browser.html\n",
    "soup = bs(html, \"html.parser\")\n",
    "time.sleep(2)\n",
    "\n",
    "\n",
    "# Searches the website for the link to the counties\n",
    "browser.links.find_by_partial_text(\"County\").click()\n",
    "time.sleep(1)\n",
    "\n",
    "if browser.url == \"https://dojos.info/NewJersey/Counties.aspx#google_vignette\":\n",
    "    browser.visit(url)\n",
    "    browser.links.find_by_partial_text(\"County\").click()\n",
    "\n",
    "for i in range(1,len(countylist)):\n",
    "    response = requests.get(browser.url)\n",
    "    soup1 = bs(response.text,'html.parser')\n",
    "\n",
    "    uList = soup1.find('ul',class_ = 'dojolist')\n",
    "    dojolist = uList.find_all('h3')\n",
    "    dojolen = len(dojolist)\n",
    "\n",
    "\n",
    "    # Selects the dojo list to click.\n",
    "    ulist = browser.find_by_css('.dojolist')\n",
    "\n",
    "    h3 = ulist.find_by_tag('h3')\n",
    "\n",
    "    # Click the the link to move to the dojo information.\n",
    "    a_tags = h3.find_by_tag('a')\n",
    "\n",
    "    a_tags.click()\n",
    "\n",
    "    for x in range(1,dojolen + 1):\n",
    "\n",
    "        # Finds the address for the dojo.\n",
    "        address = browser.find_by_tag('address')\n",
    "\n",
    "        # This will pull the address text\n",
    "        p_address = address.text\n",
    "\n",
    "        # This will split the text string into usable pieces.\n",
    "        recreate = p_address.replace('\\n',\" | \").split(\"|\")\n",
    "\n",
    "        if len(recreate) > 3:\n",
    "            recreate.pop(0)\n",
    "\n",
    "        # This is the street address\n",
    "        street = recreate[0].split()\n",
    "        streets = \" \".join(street)\n",
    "        split = recreate[1].split(',')\n",
    "\n",
    "        # The city address\n",
    "        city = split[0]\n",
    "\n",
    "        # Further splits the string into the state and zipcode parts.\n",
    "        split2 = split[1].split(\" \")\n",
    "        state = split2[1]\n",
    "        zipcode = split2[2]\n",
    "\n",
    "        # This will pull the name of the dojo.\n",
    "        dojo_name = browser.find_by_css('#pageTop')\n",
    "        dojo = dojo_name.find_by_tag(\"h1\").text\n",
    "\n",
    "        # This will find the styles that the dojo teaches\n",
    "        response = requests.get(browser.url)\n",
    "        soup2 = bs(response.text , \"html\")\n",
    "\n",
    "        style = []\n",
    "\n",
    "        styles = soup2.find('ul', class_ = 'styles')\n",
    "        for dank in styles.find_all('li'):\n",
    "            style.append(dank.text)\n",
    "\n",
    "        # Finding the phone number.\n",
    "        phone = browser.find_by_css('.phone')\n",
    "        dojo_phone = phone.text.split(\" \")[1]\n",
    "\n",
    "        dojo_dict = {'Name': dojo,\n",
    "                    'Phone': dojo_phone,\n",
    "                    'Zipcode': zipcode,\n",
    "                    'Street': streets,\n",
    "                    'City': city,\n",
    "                    'State': state,\n",
    "                    'Style': style}\n",
    "\n",
    "        dojo_list.append(dojo_dict)\n",
    "        browser.back()\n",
    "        time.sleep(1)\n",
    "\n",
    "        try:\n",
    "            ulist = browser.find_by_css('.dojolist')\n",
    "            h3 = ulist.find_by_tag('h3')[x]\n",
    "            h3.find_by_tag(\"a\").click()\n",
    "\n",
    "        except:\n",
    "            print('done')\n",
    "    \n",
    "    try:\n",
    "        browser.visit(countylist[i])\n",
    "    except:\n",
    "        print('nice')"
   ]
  },
  {
   "cell_type": "code",
   "execution_count": null,
   "metadata": {},
   "outputs": [],
   "source": [
    "# Quits out of the browser.\n",
    "browser.quit()"
   ]
  },
  {
   "cell_type": "code",
   "execution_count": null,
   "metadata": {},
   "outputs": [],
   "source": [
    "call_list = []\n",
    "for rows in range(len(dojo_list)):\n",
    "    strt = dojo_list[rows]['Street']\n",
    "    city = dojo_list[rows]['City']\n",
    "    state = dojo_list[rows]['State']\n",
    "    key = 'dank'\n",
    "    api_url = f'https://maps.googleapis.com/maps/api/geocode/json?address={strt},{city},+{state}&key={gkey}'\n",
    "    api_url\n",
    "    call_list.append(api_url.replace(\" \",\"+\"))"
   ]
  },
  {
   "cell_type": "code",
   "execution_count": null,
   "metadata": {},
   "outputs": [],
   "source": [
    "geo_data = requests.get(call_list[0]).json()\n",
    "print(geo_data)"
   ]
  },
  {
   "cell_type": "code",
   "execution_count": null,
   "metadata": {
    "scrolled": true
   },
   "outputs": [],
   "source": [
    "print(json.dumps(geo_data, indent=4, sort_keys=True))"
   ]
  },
  {
   "cell_type": "code",
   "execution_count": null,
   "metadata": {
    "scrolled": true
   },
   "outputs": [],
   "source": [
    "df = pd.DataFrame(dojo_list)\n",
    "df"
   ]
  },
  {
   "cell_type": "code",
   "execution_count": null,
   "metadata": {},
   "outputs": [],
   "source": [
    "dojo_list"
   ]
  },
  {
   "cell_type": "code",
   "execution_count": null,
   "metadata": {},
   "outputs": [],
   "source": [
    "# Selects the dojo list to click.\n",
    "ulist = browser.find_by_css('.dojolist')\n",
    "\n",
    "# Click the the link to move to the dojo information.\n",
    "ulist.find_by_tag('a')\n",
    "\n",
    "ulist"
   ]
  },
  {
   "cell_type": "code",
   "execution_count": null,
   "metadata": {},
   "outputs": [],
   "source": [
    "# Visits the url\n",
    "url = \"https://dojos.info/NewJersey/Counties.aspx\"\n",
    "browser.visit(url)\n",
    "html = browser.html\n",
    "soup = bs(html, \"html.parser\")"
   ]
  },
  {
   "cell_type": "code",
   "execution_count": null,
   "metadata": {},
   "outputs": [],
   "source": [
    "# Launches browser to search\n",
    "executable_path = {'executable_path': ChromeDriverManager().install()}\n",
    "browser = Browser('chrome', **executable_path, headless=False)"
   ]
  },
  {
   "cell_type": "code",
   "execution_count": null,
   "metadata": {},
   "outputs": [],
   "source": [
    "dojo_list = []\n",
    "\n",
    "# Visits the url\n",
    "url = \"https://dojos.info/NewJersey/Counties.aspx\"\n",
    "browser.visit(url)\n",
    "html = browser.html\n",
    "soup = bs(html, \"html.parser\")\n",
    "time.sleep(2)"
   ]
  },
  {
   "cell_type": "code",
   "execution_count": null,
   "metadata": {
    "scrolled": true
   },
   "outputs": [],
   "source": [
    "url2 = county[0]\n",
    "response = requests.get(url2)\n",
    "soup = bs(response.text,\"html.parser\")\n",
    "dank = []\n",
    "for ulist in soup.find_all('ul', class_ = 'dojolist'):\n",
    "    for h3 in ulist.find_all('h3'):\n",
    "        for a in h3.find_all('a'):\n",
    "            dank.append(a['href'])"
   ]
  },
  {
   "cell_type": "code",
   "execution_count": null,
   "metadata": {
    "scrolled": true
   },
   "outputs": [],
   "source": [
    "dank"
   ]
  },
  {
   "cell_type": "code",
   "execution_count": null,
   "metadata": {},
   "outputs": [],
   "source": [
    "dojo = []\n",
    "for k in dank:\n",
    "    dojo_url = f\"https://dojos.info{k}\"\n",
    "    dojo.append(dojo_url)"
   ]
  },
  {
   "cell_type": "code",
   "execution_count": null,
   "metadata": {},
   "outputs": [],
   "source": [
    "url3 = dojo[0]\n",
    "response = requests.get(url3)\n",
    "soup = bs(response.text,\"html.parser\")\n",
    "\n",
    "address = soup.find(\"address\")\n",
    "new_address = address.get_text(\"|\").split(\"|\")\n",
    "street1 = new_address[0].replace(\"\\r\\n\\t\\t\",\"\")\n",
    "street2 = street1.split()\n",
    "street = \" \".join(street2)\n",
    "street\n"
   ]
  },
  {
   "cell_type": "code",
   "execution_count": null,
   "metadata": {},
   "outputs": [],
   "source": [
    "new_address"
   ]
  },
  {
   "cell_type": "code",
   "execution_count": null,
   "metadata": {},
   "outputs": [],
   "source": [
    "# Finds the address for the dojo.\n",
    "address = browser.find_by_tag('address')\n",
    "\n",
    "# This will pull the address text\n",
    "p_address = address.text\n",
    "\n",
    "# This will split the text string into usable pieces.\n",
    "recreate = p_address.replace('\\n',\" | \").split(\"|\")\n",
    "street = recreate[0]\n",
    "split = recreate[1].split(',')\n",
    "city = split[0]\n",
    "\n",
    "split2 = split[1].split(\" \")\n",
    "state = split2[1]\n",
    "zipcode = split2[2]\n",
    "\n",
    "# This will pull the name of the dojo.\n",
    "dojo_name = browser.find_by_css('#pageTop')\n",
    "dojo = dojo_name.find_by_tag(\"h1\").text\n",
    "\n",
    "# Finding the phone number.\n",
    "phone = browser.find_by_css('.phone')\n",
    "dojo_phone = phone.text.split(\" \")[1]"
   ]
  },
  {
   "cell_type": "code",
   "execution_count": null,
   "metadata": {
    "scrolled": true
   },
   "outputs": [],
   "source": [
    "county"
   ]
  },
  {
   "cell_type": "code",
   "execution_count": null,
   "metadata": {
    "scrolled": true
   },
   "outputs": [],
   "source": [
    "county_url2 = 'https://dojos.info/NewJersey/AtlanticCounty/'\n",
    "response = requests.get(county_url2)\n",
    "\n",
    "soup = bs(response.text,\"html.parser\")\n",
    "ulist = soup.find('ul', class_ ='dojolist')\n",
    "\n",
    "dojo_link = ulist.find('h3')\n",
    "dojo_link"
   ]
  },
  {
   "cell_type": "code",
   "execution_count": null,
   "metadata": {},
   "outputs": [],
   "source": [
    "recreate"
   ]
  },
  {
   "cell_type": "code",
   "execution_count": null,
   "metadata": {},
   "outputs": [],
   "source": [
    "response = requests.get(browser.url)\n",
    "soup = bs(response.text , \"html\")\n",
    "\n",
    "style = []\n",
    "\n",
    "styles = soup.find('ul', class_ = 'styles')\n",
    "for dank in styles.find_all('li'):\n",
    "    style.append(dank.text)\n",
    "style"
   ]
  },
  {
   "cell_type": "markdown",
   "metadata": {},
   "source": [
    "The Code below is to start pulling information on the dojo"
   ]
  },
  {
   "cell_type": "code",
   "execution_count": null,
   "metadata": {},
   "outputs": [],
   "source": [
    "url2 = 'https://dojos.info/Acmfs/'\n",
    "response = requests.get(url2)\n",
    "\n",
    "# Using beautiful soup\n",
    "soup = bs(response.text,\"html.parser\")"
   ]
  },
  {
   "cell_type": "code",
   "execution_count": null,
   "metadata": {},
   "outputs": [],
   "source": [
    "address = soup.find('address')\n",
    "address"
   ]
  },
  {
   "cell_type": "code",
   "execution_count": null,
   "metadata": {},
   "outputs": [],
   "source": [
    "parts = address.find_all(\"a\")"
   ]
  },
  {
   "cell_type": "code",
   "execution_count": null,
   "metadata": {},
   "outputs": [],
   "source": [
    "for i in range(3):\n",
    "    print(parts[i].text)"
   ]
  },
  {
   "cell_type": "code",
   "execution_count": null,
   "metadata": {},
   "outputs": [],
   "source": [
    "part = soup.find('address', id='text')"
   ]
  },
  {
   "cell_type": "code",
   "execution_count": null,
   "metadata": {},
   "outputs": [],
   "source": [
    "# Finding the phone number.\n",
    "phone = browser.find_by_css('.phone')\n",
    "dojo_phone = phone.text.split(\" \")\n",
    "dojo_phone[1]"
   ]
  },
  {
   "cell_type": "code",
   "execution_count": null,
   "metadata": {},
   "outputs": [],
   "source": [
    "address.text"
   ]
  },
  {
   "cell_type": "code",
   "execution_count": null,
   "metadata": {},
   "outputs": [],
   "source": [
    "address"
   ]
  },
  {
   "cell_type": "markdown",
   "metadata": {},
   "source": [
    "Pulls the Address"
   ]
  },
  {
   "cell_type": "code",
   "execution_count": null,
   "metadata": {},
   "outputs": [],
   "source": [
    "new_address = address.get_text(\"|\")"
   ]
  },
  {
   "cell_type": "code",
   "execution_count": null,
   "metadata": {},
   "outputs": [],
   "source": [
    "new_address.replace(\" \",\"\")"
   ]
  },
  {
   "cell_type": "code",
   "execution_count": null,
   "metadata": {},
   "outputs": [],
   "source": [
    "first = new_address.split(\"|\")[0]"
   ]
  },
  {
   "cell_type": "code",
   "execution_count": null,
   "metadata": {},
   "outputs": [],
   "source": [
    "new_address.split(\"|\")"
   ]
  },
  {
   "cell_type": "code",
   "execution_count": null,
   "metadata": {},
   "outputs": [],
   "source": [
    "new_address.replace(\"\\r\\n\\t\\t\",\"\")"
   ]
  },
  {
   "cell_type": "code",
   "execution_count": null,
   "metadata": {},
   "outputs": [],
   "source": [
    "second = first.replace(\"\\r\\n\\t\\t\",\"\")"
   ]
  },
  {
   "cell_type": "code",
   "execution_count": null,
   "metadata": {},
   "outputs": [],
   "source": [
    "# Splits and joins the string.\n",
    "third = second.split()\n",
    "fourth = \" \".join(third)\n",
    "fourth"
   ]
  },
  {
   "cell_type": "code",
   "execution_count": null,
   "metadata": {},
   "outputs": [],
   "source": [
    "dojo_name = soup.find(\"div\", id =\"pageTop\")\n",
    "dojo_name.find(\"h1\").get_text()"
   ]
  },
  {
   "cell_type": "code",
   "execution_count": null,
   "metadata": {},
   "outputs": [],
   "source": [
    "url2 = 'https://dojos.info/Acmfs/'\n",
    "response = requests.get(url2)\n",
    "\n",
    "# Using beautiful soup\n",
    "soup = bs(response.text,\"html.parser\")\n",
    "\n",
    "address = soup.find('address')\n",
    "new_address = address.get_text(\"|\")\n",
    "clean_address = new_address.replace(\"\\r\\n\\t\\t\",\"\")\n",
    "parts = clean_address.split(\"|\")"
   ]
  },
  {
   "cell_type": "code",
   "execution_count": null,
   "metadata": {},
   "outputs": [],
   "source": [
    "parts"
   ]
  },
  {
   "cell_type": "code",
   "execution_count": null,
   "metadata": {},
   "outputs": [],
   "source": [
    "address.get_text(\"|\")\\\n",
    "    .replace(\"\\r\\n\\t\\t\",\"\")\\\n",
    "    .split(\"|\")"
   ]
  },
  {
   "cell_type": "code",
   "execution_count": null,
   "metadata": {},
   "outputs": [],
   "source": []
  }
 ],
 "metadata": {
  "kernelspec": {
   "display_name": "Python 3",
   "language": "python",
   "name": "python3"
  },
  "language_info": {
   "codemirror_mode": {
    "name": "ipython",
    "version": 3
   },
   "file_extension": ".py",
   "mimetype": "text/x-python",
   "name": "python",
   "nbconvert_exporter": "python",
   "pygments_lexer": "ipython3",
   "version": "3.7.7"
  }
 },
 "nbformat": 4,
 "nbformat_minor": 4
}
