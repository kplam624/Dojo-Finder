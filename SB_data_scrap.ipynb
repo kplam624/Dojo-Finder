{
 "cells": [
  {
   "cell_type": "code",
   "execution_count": 2,
   "metadata": {},
   "outputs": [],
   "source": [
    "# Import the dependencies\n",
    "import pandas as pd\n",
    "from bs4 import BeautifulSoup as bs\n",
    "import requests"
   ]
  },
  {
   "cell_type": "code",
   "execution_count": 3,
   "metadata": {},
   "outputs": [
    {
     "name": "stdout",
     "output_type": "stream",
     "text": [
      "<Response [200]>\n"
     ]
    }
   ],
   "source": [
    "# Setting the url\n",
    "url = \"https://en.wikipedia.org/wiki/Martial_arts\"\n",
    "\n",
    "# Creating the response\n",
    "response = requests.get(url)\n",
    "\n",
    "print(response)\n",
    "\n",
    "# Using beautiful soup\n",
    "soup = bs(response.text,\"html.parser\")"
   ]
  },
  {
   "cell_type": "code",
   "execution_count": 4,
   "metadata": {},
   "outputs": [
    {
     "data": {
      "text/plain": [
       "[<h1 class=\"firstHeading\" id=\"firstHeading\" lang=\"en\">Martial arts</h1>]"
      ]
     },
     "execution_count": 4,
     "metadata": {},
     "output_type": "execute_result"
    }
   ],
   "source": [
    "# Find tech focus data\n",
    "tech_focus = soup.find_all('h1', class_ = \"firstHeading\")\n",
    "tech_focus"
   ]
  },
  {
   "cell_type": "code",
   "execution_count": 6,
   "metadata": {},
   "outputs": [
    {
     "name": "stdout",
     "output_type": "stream",
     "text": [
      "<p>\n",
      " <b>\n",
      "  <a href=\"/wiki/Strike_(attack)\" title=\"Strike (attack)\">\n",
      "   Strikes\n",
      "  </a>\n",
      " </b>\n",
      "</p>\n",
      "\n"
     ]
    }
   ],
   "source": [
    "# Find tech focus data\n",
    "tech_focus1 = soup.find_all('p')[4]\n",
    "tech_focus1\n",
    "print(tech_focus1.prettify())"
   ]
  },
  {
   "cell_type": "code",
   "execution_count": 7,
   "metadata": {},
   "outputs": [
    {
     "name": "stdout",
     "output_type": "stream",
     "text": [
      "<p>\n",
      " <b>\n",
      "  <a href=\"/wiki/Grappling\" title=\"Grappling\">\n",
      "   Grappling\n",
      "  </a>\n",
      " </b>\n",
      "</p>\n",
      "\n"
     ]
    },
    {
     "data": {
      "text/plain": [
       "'Grappling\\n'"
      ]
     },
     "execution_count": 7,
     "metadata": {},
     "output_type": "execute_result"
    }
   ],
   "source": [
    "# Find tech focus data\n",
    "tech_focus2 = soup.find_all('p')[5]\n",
    "tech_focus2\n",
    "print(tech_focus2.prettify())\n",
    "tech_focus2.text\n"
   ]
  },
  {
   "cell_type": "code",
   "execution_count": 9,
   "metadata": {},
   "outputs": [
    {
     "ename": "IndexError",
     "evalue": "list index out of range",
     "output_type": "error",
     "traceback": [
      "\u001b[1;31m---------------------------------------------------------------------------\u001b[0m",
      "\u001b[1;31mIndexError\u001b[0m                                Traceback (most recent call last)",
      "\u001b[1;32m<ipython-input-9-415bb9bfbe8e>\u001b[0m in \u001b[0;36m<module>\u001b[1;34m\u001b[0m\n\u001b[0;32m      1\u001b[0m \u001b[1;31m# Find tech focus data\u001b[0m\u001b[1;33m\u001b[0m\u001b[1;33m\u001b[0m\u001b[1;33m\u001b[0m\u001b[0m\n\u001b[1;32m----> 2\u001b[1;33m \u001b[0mtech_focus1\u001b[0m \u001b[1;33m=\u001b[0m \u001b[0msoup\u001b[0m\u001b[1;33m.\u001b[0m\u001b[0mfind_all\u001b[0m\u001b[1;33m(\u001b[0m\u001b[1;34m'ul'\u001b[0m\u001b[1;33m,\u001b[0m\u001b[0mclass_\u001b[0m \u001b[1;33m=\u001b[0m \u001b[1;34m\"styles\"\u001b[0m \u001b[1;33m)\u001b[0m\u001b[1;33m[\u001b[0m\u001b[1;36m5\u001b[0m\u001b[1;33m]\u001b[0m\u001b[1;33m\u001b[0m\u001b[1;33m\u001b[0m\u001b[0m\n\u001b[0m\u001b[0;32m      3\u001b[0m \u001b[0mtech_focus1\u001b[0m\u001b[1;33m\u001b[0m\u001b[1;33m\u001b[0m\u001b[0m\n\u001b[0;32m      4\u001b[0m \u001b[0mprint\u001b[0m\u001b[1;33m(\u001b[0m\u001b[0mtech_focus1\u001b[0m\u001b[1;33m.\u001b[0m\u001b[0mprettify\u001b[0m\u001b[1;33m(\u001b[0m\u001b[1;33m)\u001b[0m\u001b[1;33m)\u001b[0m\u001b[1;33m\u001b[0m\u001b[1;33m\u001b[0m\u001b[0m\n",
      "\u001b[1;31mIndexError\u001b[0m: list index out of range"
     ]
    }
   ],
   "source": [
    "# Find tech focus data\n",
    "tech_focus1 = soup.find_all('ul',class_ = \"styles\" )[5]\n",
    "tech_focus1\n",
    "print(tech_focus1.prettify())"
   ]
  },
  {
   "cell_type": "code",
   "execution_count": 57,
   "metadata": {},
   "outputs": [
    {
     "name": "stdout",
     "output_type": "stream",
     "text": [
      "li: 1 Variation and scope\n",
      "\n",
      "1.1 By technical focus\n",
      "1.2 By application or intent\n",
      "\n",
      "\n",
      "li: 1.1 By technical focus\n",
      "li: 1.2 By application or intent\n",
      "li: 2 History\n",
      "\n",
      "2.1 Historical martial arts\n",
      "2.2 Folk styles\n",
      "2.3 Modern history\n",
      "2.4 Revival\n",
      "\n",
      "\n",
      "li: 2.1 Historical martial arts\n",
      "li: 2.2 Folk styles\n",
      "li: 2.3 Modern history\n",
      "li: 2.4 Revival\n",
      "li: 3 Testing and competition\n",
      "\n",
      "3.1 Light- and medium-contact\n",
      "3.2 Full-contact\n",
      "3.3 Martial sport\n",
      "\n",
      "\n",
      "li: 3.1 Light- and medium-contact\n",
      "li: 3.2 Full-contact\n",
      "li: 3.3 Martial sport\n",
      "li: 4 Health and fitness benefits\n",
      "li: 5 Self-defense, military and law enforcement applications\n",
      "li: 6 Martial arts industry\n",
      "\n",
      "6.1 Equipment\n",
      "6.2 Martial arts fraud\n",
      "\n",
      "\n",
      "li: 6.1 Equipment\n",
      "li: 6.2 Martial arts fraud\n",
      "li: 7 See also\n",
      "li: 8 References\n",
      "li: Traditional/historical arts vs. contemporary styles: e.g., folk wrestling compared to modern hybrid martial arts.\n",
      "li: Techniques taught: armed vs. unarmed, and within these categories\n",
      "armed: by type of weapon (swordsmanship, stick fighting etc.)\n",
      "unarmed: by type of combat (grappling vs. striking, stand-up fighting vs. ground fighting)\n",
      "li: armed: by type of weapon (swordsmanship, stick fighting etc.)\n",
      "li: unarmed: by type of combat (grappling vs. striking, stand-up fighting vs. ground fighting)\n",
      "li: By application or intent: self-defense, combat sport, choreography or demonstration of forms, physical fitness, meditation, etc.\n",
      "li: Within Chinese tradition: \"external\" vs. \"internal\" styles\n",
      "li: Punching: Boxing, Wing Chun, Karate\n",
      "li: Kicking: Taekwondo, Capoeira, Savate\n",
      "li: Others using strikes: Lethwei, Muay Thai, Kung Fu, Pencak Silat, Kalaripayattu\n",
      "li: Throwing: Hapkido, Judo, Sumo, Wrestling, Aikido\n",
      "li: Joint lock/Chokeholds/Submission holds: Judo, Jujutsu, Brazilian jiu-jitsu, Sambo, Catch wrestling\n",
      "li: Pinning Techniques: Judo, Wrestling, Aikido\n",
      "li: Martial arts portal\n",
      "li: Martial arts timeline\n",
      "li: History of martial arts\n",
      "li: List of martial arts\n",
      "li: ^ \"martial art | Definition, History, Types, & Facts\". Encyclopedia Britannica. Retrieved 2020-01-13.\n",
      "\n",
      "li: ^ Clements, John (January 2006). \"A Short Introduction to Historical European Martial Arts\" (PDF). Meibukan Magazine (Special Edition No. 1): 2–4. Archived from the original (PDF) on March 18, 2012. Retrieved December 21, 2012.\n",
      "\n",
      "li: ^ Donn F. Draeger and P'ng Chye Khim (1979). Shaolin Lohan Kung-fu. Tuttle Publishing.\n",
      "\n",
      "li: ^ \"Internal Kung Fu\". Chiflow.com. Retrieved 2010-11-07.\n",
      "\n",
      "li: ^ \"Philosophy aspects of Systema\". Russian Martial Art – Systema Headquarters. Retrieved 2011-09-29.\n",
      "\n",
      "li: ^ a b Hamblin, William J. (2006). Warfare in the ancient Near East to 1600 BC : holy warriors at the dawn of history (Repr. ed.). New York: Routledge. p. 15. ISBN 978-0415255899.\n",
      "\n",
      "li: ^ Nash, George, \"Assessing rank and warfare strategy in prehistoric hunter-gatherer society: a study of representational warrior figures in rock-art from the Spanish Levant\" in: M. Parker Pearson & I.J.N. Thorpe (eds.), Warfare, violence and slavery in prehistory: proceedings of a Prehistoric Society conference at Sheffield University, 2005, Archaeopress, ISBN 1841718165, 978-1841718163, Fully online, Bristol University\n",
      "\n",
      "li: ^ \"Wrestling\". Encyclopedia Britannica. Retrieved 2 September 2019.\n",
      "\n",
      "li: ^ Michael Poliakoff. \"Encyclopædia Britannica entry for Boxing\". Britannica.com. Retrieved 18 May 2013.\n",
      "\n",
      "li: ^ \"Sun Tzu Biography and Introduction: Sun Tzu The Art of War and Strategy Site by\". Sonshi. Com. Retrieved 2010-11-07.\n",
      "\n",
      "li: ^ Reid, Howard and Croucher, Michael (1983). The Way of the Warrior – The Paradox of the Martial Arts. New York: Overlook Press[ISBN missing][page needed]\n",
      "\n",
      "li: ^ \"Actualizing Power and Crafting a Self in Kalarippayattu\". spa.exeter.ac.uk. Retrieved 2016-02-29.\n",
      "\n",
      "li: ^ Berreby, David (1988-08-28). \"The Martial Arts as Moneymakers\". The New York Times. Retrieved 2010-12-04.\n",
      "\n",
      "li: ^ \"Jeet Kune Do\". absolutedefense.net. Archived from the original on 2014-07-17. Retrieved 2014-05-27.\n",
      "\n",
      "li: ^ \"The origins, history and rules from the early days of Pancrase circa 1993\". bloodyelbow.com. 2014-03-29. Retrieved 2014-05-27.\n",
      "\n",
      "li: ^ \"fighting art used in the UFC\". UFC.com. Archived from the original on 2010-05-23. Retrieved 2010-11-07.\n",
      "\n",
      "li: ^ \"UNESCO Culture Sector – Intangible Heritage – 2003 Convention\". UNESCO.org.\n",
      "\n",
      "li: ^ Tandon, Nikita. \"Reviving the Lost Martial Arts of India\". The Armchair Lounge. Archived from the original on 2018-08-21. Retrieved 2016-03-01.\n",
      "\n",
      "li: ^ Manoharan, Suresh K. \"History of Varmakalai\". www.varmam.org. Retrieved 2016-03-01.\n",
      "\n",
      "li: ^ \"Aliveness 101\". Straight Blast gym. Archived from the original on 2009-01-07. Retrieved 2008-11-03. – An essay on contact levels in training\n",
      "\n",
      "li: ^ Dave Meltzer (November 12, 2007). \"First UFC forever altered combat sports\". Yahoo! Sports. Archived from the original on June 4, 2011. Retrieved 2008-11-03.\n",
      "\n",
      "li: ^ Fu, Zhongwen (2006) [1996]. Mastering Yang Style Taijiquan. Berkeley, California: Blue Snake Books.\n",
      "\n",
      "li: ^ Bu, Bin; Haijun, Han; Yong, Liu; Chaohui, Zhang; Xiaoyuan, Yang; Singh, Maria Fiatarone (2010). \"Effects of martial arts on health status: A systematic review\". Journal of Evidence-Based Medicine. 3 (4): 205–219. doi:10.1111/j.1756-5391.2010.01107.x. PMID 21349072. S2CID 41065668.\n",
      "\n",
      "li: ^ Vail, Jason (2006). Medieval and Renaissance Dagger Combat. Paladin Press. pp. 91–95.\n",
      "\n",
      "li: ^ Sean Rayment (2004-06-13). \"British battalion 'attacked every day for six weeks'\". The Daily Telegraph. London: Telegraph Media Group Limited. Retrieved 2008-12-11.\n",
      "\n",
      "li: ^ Twigger, R. (1997). Angry White Pyjamas. London: Phoenix. ISBN 978-0753808580[page needed]\n",
      "\n",
      "li: ^ \"Martial Arts : Fact Sheet\" (PDF). Web-japan.org. Retrieved 2015-08-13.\n",
      "\n",
      "li: ^ Kim, H.-S. (2009): Taekwondo: A new strategy for Brand Korea Archived 2011-07-23 at the Wayback Machine (21 December 2009). Retrieved on 8 January 2010.\n",
      "\n",
      "li: ^ Jack W. Plunkett (2009). Plunkett's Sports Industry Almanac, ISBN 978-1593921408.\n",
      "\n",
      "li: ^ Black Belt Magazine September 2003, p. 20.\n",
      "\n",
      "li: ^ \"The Importance Of A Mouthguard When Playing Sport\". Orthodontics Australia. 2020-02-21. Retrieved 2020-10-06.\n",
      "\n",
      "li: ^ see “The Real Deal, The Buzzwords and the Latest Trend” Black Belt Magazine, June 1999, p. 78.\n",
      "\n",
      "li: ^ Tom Heintjes (June 20, 2017). \"The Deadliest Ads Alive! | Hogan's Alley\". Cartoonician.com. Archived from the original on August 25, 2015. Retrieved 2015-08-13.\n",
      "\n",
      "li: v\n",
      "li: t\n",
      "li: e\n",
      "li: List of styles\n",
      "li: History\n",
      "li: Timeline\n",
      "li: Hard and soft\n",
      "li: China\n",
      "li: Europe\n",
      "li: India\n",
      "li: Indonesia\n",
      "li: Japan\n",
      "li: Korea\n",
      "li: Philippines\n",
      "li: Chokehold\n",
      "li: Clinch\n",
      "li: Footwork\n",
      "li: Elbow strike\n",
      "li: Headbutt\n",
      "li: Hold\n",
      "li: Kick\n",
      "li: Knee strike\n",
      "li: Joint lock\n",
      "li: Punch\n",
      "li: Sweep\n",
      "li: Takedown\n",
      "li: Throw\n",
      "li: Duel\n",
      "li: Melee weapons\n",
      "Knife fighting\n",
      "Stick-fighting\n",
      "Swordsmanship\n",
      "li: Knife fighting\n",
      "li: Stick-fighting\n",
      "li: Swordsmanship\n",
      "li: Ranged weapons\n",
      "Archery\n",
      "Shooting\n",
      "li: Archery\n",
      "li: Shooting\n",
      "li: Kata\n",
      "li: Boxing gloves\n",
      "li: Practice weapon\n",
      "li: Punching bag\n",
      "li: Pushing hands\n",
      "li: Randori\n",
      "li: Sparring\n",
      "li: Brazilian jiu-jitsu\n",
      "li: Judo\n",
      "li: Jujutsu\n",
      "li: Sambo\n",
      "li: Shuai Jiao\n",
      "li: Sumo\n",
      "li: Wrestling\n",
      "li: Bando\n",
      "li: Boxing\n",
      "li: Capoeira\n",
      "li: Karate\n",
      "li: Kickboxing\n",
      "li: Lethwei\n",
      "li: Muay Thai\n",
      "li: Pradal serey\n",
      "li: Sanshou\n",
      "li: Savate\n",
      "li: Taekwondo\n",
      "li: Vovinam\n",
      "li: Aikido\n",
      "li: Aikijutsu\n",
      "li: Baguazhang\n",
      "li: Tai chi\n",
      "li: Xing Yi Quan\n",
      "li: Professional boxing\n",
      "li: Professional kickboxing\n",
      "li: Knockdown karate\n",
      "li: Mixed martial arts\n",
      "li: Pankration\n",
      "li: Submission wrestling\n",
      "li: Vale tudo\n",
      "li: Arnis\n",
      "li: Bartitsu\n",
      "li: Hapkido\n",
      "li: Kajukenbo\n",
      "li: Krav Maga\n",
      "li: MCMAP\n",
      "li: Pencak Silat\n",
      "li: Systema\n",
      "li: Wing Chun\n",
      "li: Legal aspects\n",
      "li: Silat Melayu\n",
      "li: American Kenpo\n",
      "li: Chun Kuk Do\n",
      "li: Jeet Kune Do\n",
      "li: Shooto\n",
      "li: Shorinji Kempo\n",
      "li: Unifight\n",
      "li: Beat 'em up\n",
      "li: Fighting game\n",
      "li: Martial arts film (Chanbara)\n",
      "li: Professional wrestling\n",
      "li: Stage combat\n",
      "li: Wuxia\n",
      "li:  Portal\n",
      "li:  Outline\n",
      "li: NARA: 10637896\n",
      "li: NDL: 00564740\n",
      "li: Martial arts\n",
      "li: Combat sports\n",
      "li: Individual sports\n",
      "li: Cognitive training\n",
      "li: Performing arts\n",
      "li: Self-defense\n",
      "li: Pages with missing ISBNs\n",
      "li: Wikipedia articles needing page number citations from October 2020\n",
      "li: Webarchive template wayback links\n",
      "li: Articles with short description\n",
      "li: Short description is different from Wikidata\n",
      "li: All articles with unsourced statements\n",
      "li: Articles with unsourced statements from May 2019\n",
      "li: Articles with unsourced statements from May 2020\n",
      "li: Articles with unsourced statements from October 2011\n",
      "li: Articles with unsourced statements from December 2011\n",
      "li: Articles with unsourced statements from June 2020\n",
      "li: Articles with unsourced statements from January 2017\n",
      "li: Articles with unsourced statements from January 2011\n",
      "li: Wikipedia articles with NARA identifiers\n",
      "li: Wikipedia articles with NDL identifiers\n",
      "li: Not logged in\n",
      "li: Talk\n",
      "li: Contributions\n",
      "li: Create account\n",
      "li: Log in\n",
      "li: Article\n",
      "li: Talk\n",
      "li: Read\n",
      "li: Edit\n",
      "li: View history\n",
      "li: Main page\n",
      "li: Contents\n",
      "li: Current events\n",
      "li: Random article\n",
      "li: About Wikipedia\n",
      "li: Contact us\n",
      "li: Donate\n",
      "li: Help\n",
      "li: Learn to edit\n",
      "li: Community portal\n",
      "li: Recent changes\n",
      "li: Upload file\n",
      "li: What links here\n",
      "li: Related changes\n",
      "li: Upload file\n",
      "li: Special pages\n",
      "li: Permanent link\n",
      "li: Page information\n",
      "li: Cite this page\n",
      "li: Wikidata item\n",
      "li: Download as PDF\n",
      "li: Printable version\n",
      "li: Wikimedia Commons\n",
      "li: Wikiquote\n",
      "li: Wikivoyage\n",
      "li: Afrikaans\n",
      "li: Alemannisch\n",
      "li: العربية\n",
      "li: Aragonés\n",
      "li: অসমীয়া\n",
      "li: Asturianu\n",
      "li: Azərbaycanca\n",
      "li: تۆرکجه\n",
      "li: বাংলা\n",
      "li: Bân-lâm-gú\n",
      "li: Башҡортса\n",
      "li: Беларуская\n",
      "li: Беларуская (тарашкевіца)‎\n",
      "li: Български\n",
      "li: Bosanski\n",
      "li: Brezhoneg\n",
      "li: Català\n",
      "li: Čeština\n",
      "li: Chavacano de Zamboanga\n",
      "li: Corsu\n",
      "li: Cymraeg\n",
      "li: Deutsch\n",
      "li: Eesti\n",
      "li: Ελληνικά\n",
      "li: Emiliàn e rumagnòl\n",
      "li: Español\n",
      "li: Esperanto\n",
      "li: Euskara\n",
      "li: فارسی\n",
      "li: Fiji Hindi\n",
      "li: Français\n",
      "li: Gaeilge\n",
      "li: Galego\n",
      "li: ગુજરાતી\n",
      "li: 한국어\n",
      "li: Հայերեն\n",
      "li: हिन्दी\n",
      "li: Hrvatski\n",
      "li: Ido\n",
      "li: Bahasa Indonesia\n",
      "li: Interlingua\n",
      "li: Íslenska\n",
      "li: Italiano\n",
      "li: עברית\n",
      "li: Kabɩyɛ\n",
      "li: Қазақша\n",
      "li: Kiswahili\n",
      "li: Latina\n",
      "li: Latviešu\n",
      "li: Lietuvių\n",
      "li: Lingua Franca Nova\n",
      "li: Magyar\n",
      "li: मैथिली\n",
      "li: Македонски\n",
      "li: മലയാളം\n",
      "li: Malti\n",
      "li: Bahasa Melayu\n",
      "li: Mirandés\n",
      "li: မြန်မာဘာသာ\n",
      "li: Nederlands\n",
      "li: नेपाली\n",
      "li: नेपाल भाषा\n",
      "li: 日本語\n",
      "li: Napulitano\n",
      "li: Нохчийн\n",
      "li: Norsk bokmål\n",
      "li: Norsk nynorsk\n",
      "li: Novial\n",
      "li: Occitan\n",
      "li: ਪੰਜਾਬੀ\n",
      "li: پنجابی\n",
      "li: Piemontèis\n",
      "li: Polski\n",
      "li: Português\n",
      "li: Română\n",
      "li: Runa Simi\n",
      "li: Русский\n",
      "li: Shqip\n",
      "li: Sicilianu\n",
      "li: Simple English\n",
      "li: Slovenčina\n",
      "li: Slovenščina\n",
      "li: کوردی\n",
      "li: Српски / srpski\n",
      "li: Srpskohrvatski / српскохрватски\n",
      "li: Suomi\n",
      "li: Svenska\n",
      "li: Tagalog\n",
      "li: தமிழ்\n",
      "li: ไทย\n",
      "li: Тоҷикӣ\n",
      "li: Türkçe\n",
      "li: Українська\n",
      "li: اردو\n",
      "li: Tiếng Việt\n",
      "li: Winaray\n",
      "li: 吴语\n",
      "li: ייִדיש\n",
      "li: 粵語\n",
      "li: Žemaitėška\n",
      "li: 中文\n",
      "li:  This page was last edited on 3 January 2021, at 02:31 (UTC).\n",
      "li: Text is available under the Creative Commons Attribution-ShareAlike License;\n",
      "additional terms may apply.  By using this site, you agree to the Terms of Use and Privacy Policy. Wikipedia® is a registered trademark of the Wikimedia Foundation, Inc., a non-profit organization.\n",
      "li: Privacy policy\n",
      "li: About Wikipedia\n",
      "li: Disclaimers\n",
      "li: Contact Wikipedia\n",
      "li: Mobile view\n",
      "li: Developers\n",
      "li: Statistics\n",
      "li: Cookie statement\n",
      "li: \n",
      "li: \n"
     ]
    },
    {
     "data": {
      "text/plain": [
       "'\\n'"
      ]
     },
     "execution_count": 57,
     "metadata": {},
     "output_type": "execute_result"
    }
   ],
   "source": [
    "for tag in soup.find_all(\"li\"):\n",
    "    print(\"{0}: {1}\".format(tag.name, tag.text))\n",
    "    \n"
   ]
  },
  {
   "cell_type": "code",
   "execution_count": 11,
   "metadata": {},
   "outputs": [
    {
     "ename": "SyntaxError",
     "evalue": "invalid syntax (<ipython-input-11-9165a4567eba>, line 5)",
     "output_type": "error",
     "traceback": [
      "\u001b[1;36m  File \u001b[1;32m\"<ipython-input-11-9165a4567eba>\"\u001b[1;36m, line \u001b[1;32m5\u001b[0m\n\u001b[1;33m    break lis.append(li)\u001b[0m\n\u001b[1;37m          ^\u001b[0m\n\u001b[1;31mSyntaxError\u001b[0m\u001b[1;31m:\u001b[0m invalid syntax\n"
     ]
    }
   ],
   "source": [
    "lis = []\n",
    "for ul in uls:\n",
    "    for li in ul.findAll('li'): \n",
    "        if li.find('ul'):\n",
    "            break lis.append(li)\n",
    "for li in lis: \n",
    "    print li.text.encode(\"utf-8\")"
   ]
  },
  {
   "cell_type": "code",
   "execution_count": null,
   "metadata": {},
   "outputs": [],
   "source": [
    "#`response = requests.get(browser.url)\n",
    "#soup = bs(response.text , \"html\")\n",
    "#styles = soup.find('ul', class_ = 'styles')\n",
    "#for dank in styles.find_all('li'):\n",
    "#    print(dank.text)`"
   ]
  },
  {
   "cell_type": "code",
   "execution_count": 20,
   "metadata": {},
   "outputs": [
    {
     "ename": "KeyError",
     "evalue": "2",
     "output_type": "error",
     "traceback": [
      "\u001b[1;31m---------------------------------------------------------------------------\u001b[0m",
      "\u001b[1;31mKeyError\u001b[0m                                  Traceback (most recent call last)",
      "\u001b[1;32m<ipython-input-20-b7e6abb0c111>\u001b[0m in \u001b[0;36m<module>\u001b[1;34m\u001b[0m\n\u001b[0;32m      1\u001b[0m \u001b[1;31m#response = requests.get(browser.url)\u001b[0m\u001b[1;33m\u001b[0m\u001b[1;33m\u001b[0m\u001b[1;33m\u001b[0m\u001b[0m\n\u001b[0;32m      2\u001b[0m \u001b[1;31m#soup = bs(response.text , \"html\")\u001b[0m\u001b[1;33m\u001b[0m\u001b[1;33m\u001b[0m\u001b[1;33m\u001b[0m\u001b[0m\n\u001b[1;32m----> 3\u001b[1;33m \u001b[0mstyles\u001b[0m \u001b[1;33m=\u001b[0m \u001b[0msoup\u001b[0m\u001b[1;33m.\u001b[0m\u001b[0mfind\u001b[0m\u001b[1;33m(\u001b[0m\u001b[1;34m'ul'\u001b[0m\u001b[1;33m)\u001b[0m\u001b[1;33m[\u001b[0m\u001b[1;36m2\u001b[0m\u001b[1;33m]\u001b[0m\u001b[1;33m\u001b[0m\u001b[1;33m\u001b[0m\u001b[0m\n\u001b[0m\u001b[0;32m      4\u001b[0m \u001b[1;32mfor\u001b[0m \u001b[0mdank\u001b[0m \u001b[1;32min\u001b[0m \u001b[0mstyles\u001b[0m\u001b[1;33m.\u001b[0m\u001b[0mfind_all\u001b[0m\u001b[1;33m(\u001b[0m\u001b[1;34m'li'\u001b[0m\u001b[1;33m)\u001b[0m\u001b[1;33m:\u001b[0m\u001b[1;33m\u001b[0m\u001b[1;33m\u001b[0m\u001b[0m\n\u001b[0;32m      5\u001b[0m     \u001b[0mprint\u001b[0m\u001b[1;33m(\u001b[0m\u001b[0mdank\u001b[0m\u001b[1;33m.\u001b[0m\u001b[0mtext\u001b[0m\u001b[1;33m)\u001b[0m\u001b[1;33m\u001b[0m\u001b[1;33m\u001b[0m\u001b[0m\n",
      "\u001b[1;32m~\\anaconda3\\lib\\site-packages\\bs4\\element.py\u001b[0m in \u001b[0;36m__getitem__\u001b[1;34m(self, key)\u001b[0m\n\u001b[0;32m   1399\u001b[0m         \"\"\"tag[key] returns the value of the 'key' attribute for the Tag,\n\u001b[0;32m   1400\u001b[0m         and throws an exception if it's not there.\"\"\"\n\u001b[1;32m-> 1401\u001b[1;33m         \u001b[1;32mreturn\u001b[0m \u001b[0mself\u001b[0m\u001b[1;33m.\u001b[0m\u001b[0mattrs\u001b[0m\u001b[1;33m[\u001b[0m\u001b[0mkey\u001b[0m\u001b[1;33m]\u001b[0m\u001b[1;33m\u001b[0m\u001b[1;33m\u001b[0m\u001b[0m\n\u001b[0m\u001b[0;32m   1402\u001b[0m \u001b[1;33m\u001b[0m\u001b[0m\n\u001b[0;32m   1403\u001b[0m     \u001b[1;32mdef\u001b[0m \u001b[0m__iter__\u001b[0m\u001b[1;33m(\u001b[0m\u001b[0mself\u001b[0m\u001b[1;33m)\u001b[0m\u001b[1;33m:\u001b[0m\u001b[1;33m\u001b[0m\u001b[1;33m\u001b[0m\u001b[0m\n",
      "\u001b[1;31mKeyError\u001b[0m: 2"
     ]
    }
   ],
   "source": [
    "#response = requests.get(browser.url)\n",
    "#soup = bs(response.text , \"html\")\n",
    "styles = soup.find('ul')[2]\n",
    "for dank in styles.find_all('li'):\n",
    "    print(dank.text)"
   ]
  },
  {
   "cell_type": "code",
   "execution_count": 5,
   "metadata": {},
   "outputs": [],
   "source": [
    "#breadcrum = soup.find_all('ul')[3]\n",
    "#soup.ul.text(strip = True)\n",
    "\n",
    "#breadcrum = breadcrum.replace(\"\\n\\t\\\", \"\")"
   ]
  },
  {
   "cell_type": "code",
   "execution_count": 15,
   "metadata": {},
   "outputs": [
    {
     "data": {
      "text/plain": [
       "<ul><li><b><a href=\"/wiki/Punch_(combat)\" title=\"Punch (combat)\">Punching</a></b>: <a href=\"/wiki/Boxing\" title=\"Boxing\">Boxing</a>, <a href=\"/wiki/Wing_Chun\" title=\"Wing Chun\">Wing Chun</a>, <a href=\"/wiki/Karate\" title=\"Karate\">Karate</a></li>\n",
       "<li><b><a href=\"/wiki/Kick\" title=\"Kick\">Kicking</a></b>: <a href=\"/wiki/Taekwondo\" title=\"Taekwondo\">Taekwondo</a>, <a href=\"/wiki/Capoeira\" title=\"Capoeira\">Capoeira</a>, <a href=\"/wiki/Savate\" title=\"Savate\">Savate</a></li>\n",
       "<li>Others using strikes: <a href=\"/wiki/Lethwei\" title=\"Lethwei\">Lethwei</a>, <a href=\"/wiki/Muay_Thai\" title=\"Muay Thai\">Muay Thai</a>, <a class=\"mw-redirect\" href=\"/wiki/Kung_Fu\" title=\"Kung Fu\">Kung Fu</a>, <a class=\"mw-redirect\" href=\"/wiki/Pencak_Silat\" title=\"Pencak Silat\">Pencak Silat</a>, <a href=\"/wiki/Kalaripayattu\" title=\"Kalaripayattu\">Kalaripayattu</a></li></ul>"
      ]
     },
     "execution_count": 15,
     "metadata": {},
     "output_type": "execute_result"
    }
   ],
   "source": [
    "#get Strikes list\n",
    "styles = soup.find_all('ul')[7]\n",
    "styles"
   ]
  },
  {
   "cell_type": "code",
   "execution_count": 16,
   "metadata": {},
   "outputs": [
    {
     "name": "stdout",
     "output_type": "stream",
     "text": [
      "Punching: Boxing, Wing Chun, Karate\n",
      "Kicking: Taekwondo, Capoeira, Savate\n",
      "Others using strikes: Lethwei, Muay Thai, Kung Fu, Pencak Silat, Kalaripayattu\n"
     ]
    }
   ],
   "source": [
    "for dank in styles.find_all('li'):\n",
    "    print(dank.text)"
   ]
  },
  {
   "cell_type": "code",
   "execution_count": 19,
   "metadata": {},
   "outputs": [
    {
     "data": {
      "text/plain": [
       "<ul><li><b><a href=\"/wiki/Throw_(grappling)\" title=\"Throw (grappling)\">Throwing</a></b>: <a href=\"/wiki/Hapkido\" title=\"Hapkido\">Hapkido</a>, <a href=\"/wiki/Judo\" title=\"Judo\">Judo</a>, <a href=\"/wiki/Sumo\" title=\"Sumo\">Sumo</a>, <a href=\"/wiki/Wrestling\" title=\"Wrestling\">Wrestling</a>, <a href=\"/wiki/Aikido\" title=\"Aikido\">Aikido</a></li>\n",
       "<li><b><a href=\"/wiki/Joint_lock\" title=\"Joint lock\">Joint lock</a></b>/<b><a class=\"mw-redirect\" href=\"/wiki/Chokeholds\" title=\"Chokeholds\">Chokeholds</a></b>/<b><a class=\"mw-redirect\" href=\"/wiki/Submission_holds\" title=\"Submission holds\">Submission holds</a></b>: Judo, <a href=\"/wiki/Jujutsu\" title=\"Jujutsu\">Jujutsu</a>, <a href=\"/wiki/Brazilian_jiu-jitsu\" title=\"Brazilian jiu-jitsu\">Brazilian jiu-jitsu</a>, <a href=\"/wiki/Sambo_(martial_art)\" title=\"Sambo (martial art)\">Sambo</a>, <a href=\"/wiki/Catch_wrestling\" title=\"Catch wrestling\">Catch wrestling</a></li>\n",
       "<li><b><a class=\"mw-redirect\" href=\"/wiki/Pinning_hold\" title=\"Pinning hold\">Pinning Techniques</a></b>: Judo, Wrestling, Aikido</li></ul>"
      ]
     },
     "execution_count": 19,
     "metadata": {},
     "output_type": "execute_result"
    }
   ],
   "source": [
    "#get Strikes list\n",
    "styles2 = soup.find_all('ul')[8]\n",
    "styles2"
   ]
  },
  {
   "cell_type": "code",
   "execution_count": 20,
   "metadata": {},
   "outputs": [
    {
     "name": "stdout",
     "output_type": "stream",
     "text": [
      "Throwing: Hapkido, Judo, Sumo, Wrestling, Aikido\n",
      "Joint lock/Chokeholds/Submission holds: Judo, Jujutsu, Brazilian jiu-jitsu, Sambo, Catch wrestling\n",
      "Pinning Techniques: Judo, Wrestling, Aikido\n"
     ]
    }
   ],
   "source": [
    "for dank in styles2.find_all('li'):\n",
    "    print(dank.text)"
   ]
  },
  {
   "cell_type": "code",
   "execution_count": null,
   "metadata": {},
   "outputs": [],
   "source": []
  },
  {
   "cell_type": "code",
   "execution_count": null,
   "metadata": {},
   "outputs": [],
   "source": []
  },
  {
   "cell_type": "code",
   "execution_count": null,
   "metadata": {},
   "outputs": [],
   "source": []
  },
  {
   "cell_type": "code",
   "execution_count": null,
   "metadata": {},
   "outputs": [],
   "source": []
  }
 ],
 "metadata": {
  "kernelspec": {
   "display_name": "Python 3",
   "language": "python",
   "name": "python3"
  },
  "language_info": {
   "codemirror_mode": {
    "name": "ipython",
    "version": 3
   },
   "file_extension": ".py",
   "mimetype": "text/x-python",
   "name": "python",
   "nbconvert_exporter": "python",
   "pygments_lexer": "ipython3",
   "version": "3.8.3"
  }
 },
 "nbformat": 4,
 "nbformat_minor": 4
}
